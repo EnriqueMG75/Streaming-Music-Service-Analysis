{
 "cells": [
  {
   "cell_type": "code",
   "execution_count": 1,
   "metadata": {},
   "outputs": [
    {
     "name": "stdout",
     "output_type": "stream",
     "text": [
      "Waiting for a Spark session to start...\n",
      "Spark Initialization Done! ApplicationId = app-20200204193917-0000\n",
      "KERNEL_ID = 02612626-1939-4a78-8bf7-e8311c372116\n"
     ]
    }
   ],
   "source": [
    "# Importing necessary libraries\n",
    "import ibmos2spark\n",
    "from pyspark.sql import SparkSession, Window\n",
    "from pyspark.sql.functions import udf, desc, asc, datediff, col, sum as Fsum\n",
    "from pyspark.sql.types import StringType, IntegerType\n",
    "from pyspark.ml import Pipeline\n",
    "from pyspark.ml.classification import LogisticRegression, GBTClassifier, RandomForestClassifier\n",
    "from pyspark.ml.classification import DecisionTreeClassifier, LinearSVC\n",
    "\n",
    "from pyspark.ml.evaluation import MulticlassClassificationEvaluator\n",
    "from pyspark.ml.feature import StandardScaler, VectorAssembler\n",
    "from pyspark.ml.tuning import CrossValidator, ParamGridBuilder\n",
    "\n",
    "import datetime\n",
    "\n",
    "import numpy as np\n",
    "import pandas as pd\n",
    "%matplotlib inline\n",
    "import matplotlib.pyplot as plt\n",
    "import seaborn as sns"
   ]
  },
  {
   "cell_type": "code",
   "execution_count": 2,
   "metadata": {},
   "outputs": [
    {
     "data": {
      "text/plain": [
       "[Row(artist='Martin Orford', auth='Logged In', firstName='Joseph', gender='M', itemInSession=20, lastName='Morales', length=597.55057, level='free', location='Corpus Christi, TX', method='PUT', page='NextSong', registration=1532063507000, sessionId=292, song='Grand Designs', status=200, ts=1538352011000, userAgent='\"Mozilla/5.0 (Macintosh; Intel Mac OS X 10_9_4) AppleWebKit/537.36 (KHTML, like Gecko) Chrome/36.0.1985.125 Safari/537.36\"', userId='293'),\n",
       " Row(artist=\"John Brown's Body\", auth='Logged In', firstName='Sawyer', gender='M', itemInSession=74, lastName='Larson', length=380.21179, level='free', location='Houston-The Woodlands-Sugar Land, TX', method='PUT', page='NextSong', registration=1538069638000, sessionId=97, song='Bulls', status=200, ts=1538352025000, userAgent='\"Mozilla/5.0 (Macintosh; Intel Mac OS X 10_9_4) AppleWebKit/537.36 (KHTML, like Gecko) Chrome/36.0.1985.143 Safari/537.36\"', userId='98'),\n",
       " Row(artist='Afroman', auth='Logged In', firstName='Maverick', gender='M', itemInSession=184, lastName='Santiago', length=202.37016, level='paid', location='Orlando-Kissimmee-Sanford, FL', method='PUT', page='NextSong', registration=1535953455000, sessionId=178, song='Because I Got High', status=200, ts=1538352118000, userAgent='\"Mozilla/5.0 (Macintosh; Intel Mac OS X 10_9_4) AppleWebKit/537.36 (KHTML, like Gecko) Chrome/36.0.1985.143 Safari/537.36\"', userId='179'),\n",
       " Row(artist=None, auth='Logged In', firstName='Maverick', gender='M', itemInSession=185, lastName='Santiago', length=None, level='paid', location='Orlando-Kissimmee-Sanford, FL', method='PUT', page='Logout', registration=1535953455000, sessionId=178, song=None, status=307, ts=1538352119000, userAgent='\"Mozilla/5.0 (Macintosh; Intel Mac OS X 10_9_4) AppleWebKit/537.36 (KHTML, like Gecko) Chrome/36.0.1985.143 Safari/537.36\"', userId='179'),\n",
       " Row(artist='Lily Allen', auth='Logged In', firstName='Gianna', gender='F', itemInSession=22, lastName='Campos', length=194.53342, level='paid', location='Mobile, AL', method='PUT', page='NextSong', registration=1535931018000, sessionId=245, song='Smile (Radio Edit)', status=200, ts=1538352124000, userAgent='Mozilla/5.0 (Windows NT 6.1; WOW64; rv:31.0) Gecko/20100101 Firefox/31.0', userId='246')]"
      ]
     },
     "execution_count": 2,
     "metadata": {},
     "output_type": "execute_result"
    }
   ],
   "source": [
    "# @hidden_cell\n",
    "credentials = {\n",
    "    'endpoint': 'https://s3-api.us-geo.objectstorage.service.networklayer.com',\n",
    "    'service_id': 'iam-ServiceId-a56f4214-b364-4873-ac79-a48c753c8ac3',\n",
    "    'iam_service_endpoint': 'https://iam.ng.bluemix.net/oidc/token',\n",
    "    'api_key': 'MhYf5fkHKw4c5zmzGmcupos5mgIcvGloLcJyPjpBn1d1'\n",
    "}\n",
    "\n",
    "configuration_name = 'os_106a68daf99640168765e228f2fe93a4_configs'\n",
    "cos = ibmos2spark.CloudObjectStorage(sc, credentials, configuration_name, 'bluemix_cos')\n",
    "\n",
    "spark = SparkSession.builder.getOrCreate()\n",
    "# Since JSON data can be semi-structured and contain additional metadata, it is possible that you might face issues with the DataFrame layout.\n",
    "# Please read the documentation of 'SparkSession.read()' to learn more about the possibilities to adjust the data loading.\n",
    "# PySpark documentation: http://spark.apache.org/docs/2.0.2/api/python/pyspark.sql.html#pyspark.sql.DataFrameReader.json\n",
    "\n",
    "data = spark.read.json(cos.url('medium-sparkify-event-data.json', 'streammingmusicserviceproject-donotdelete-pr-enhnygi4alt5ez'))\n",
    "data.take(5)\n"
   ]
  },
  {
   "cell_type": "markdown",
   "metadata": {},
   "source": [
    "# Data exploration"
   ]
  },
  {
   "cell_type": "code",
   "execution_count": 3,
   "metadata": {},
   "outputs": [
    {
     "name": "stdout",
     "output_type": "stream",
     "text": [
      "root\n",
      " |-- artist: string (nullable = true)\n",
      " |-- auth: string (nullable = true)\n",
      " |-- firstName: string (nullable = true)\n",
      " |-- gender: string (nullable = true)\n",
      " |-- itemInSession: long (nullable = true)\n",
      " |-- lastName: string (nullable = true)\n",
      " |-- length: double (nullable = true)\n",
      " |-- level: string (nullable = true)\n",
      " |-- location: string (nullable = true)\n",
      " |-- method: string (nullable = true)\n",
      " |-- page: string (nullable = true)\n",
      " |-- registration: long (nullable = true)\n",
      " |-- sessionId: long (nullable = true)\n",
      " |-- song: string (nullable = true)\n",
      " |-- status: long (nullable = true)\n",
      " |-- ts: long (nullable = true)\n",
      " |-- userAgent: string (nullable = true)\n",
      " |-- userId: string (nullable = true)\n",
      "\n"
     ]
    }
   ],
   "source": [
    "data.printSchema()"
   ]
  },
  {
   "cell_type": "code",
   "execution_count": 4,
   "metadata": {},
   "outputs": [
    {
     "name": "stdout",
     "output_type": "stream",
     "text": [
      "+-------+-----------------+----------+---------+------+------------------+--------+------------------+------+----------------+------+-------+--------------------+------------------+--------------------+------------------+--------------------+--------------------+------------------+\n",
      "|summary|           artist|      auth|firstName|gender|     itemInSession|lastName|            length| level|        location|method|   page|        registration|         sessionId|                song|            status|                  ts|           userAgent|            userId|\n",
      "+-------+-----------------+----------+---------+------+------------------+--------+------------------+------+----------------+------+-------+--------------------+------------------+--------------------+------------------+--------------------+--------------------+------------------+\n",
      "|  count|           432877|    543705|   528005|528005|            543705|  528005|            432877|543705|          528005|543705| 543705|              528005|            543705|              432877|            543705|              543705|              528005|            543705|\n",
      "|   mean|527.5289537712895|      null|     null|  null|107.30629109535502|    null|248.66459278007738|  null|            null|  null|   null|1.535523414862437E12|2040.8143533717732|            Infinity|210.01829116892432|1.540964541209800...|                null| 60268.42669103512|\n",
      "| stddev|966.1072451772758|      null|     null|  null|116.72350849188074|    null| 98.41266955051972|  null|            null|  null|   null|3.0787254929957166E9| 1434.338931078271|                 NaN|31.471919021567537|1.4820571449105084E9|                null|109898.82324176628|\n",
      "|    min|              !!!| Cancelled|  Aaliyah|     F|                 0|  Abbott|           0.78322|  free|       Akron, OH|   GET|  About|       1509854193000|                 1|\u001c",
      "ÃÂg ÃÂtti Gr...|               200|       1538352011000|\"Mozilla/5.0 (Mac...|                  |\n",
      "|    max|ÃÂlafur Arnalds|Logged Out|   Zyonna|     M|              1005|  Wright|        3024.66567|  paid|York-Hanover, PA|   PUT|Upgrade|       1543073874000|              4808|ÃÂ¾etta Gerist Ã...|               404|       1543622466000|Mozilla/5.0 (comp...|                99|\n",
      "+-------+-----------------+----------+---------+------+------------------+--------+------------------+------+----------------+------+-------+--------------------+------------------+--------------------+------------------+--------------------+--------------------+------------------+\n",
      "\n"
     ]
    }
   ],
   "source": [
    "data.describe().show()"
   ]
  },
  {
   "cell_type": "code",
   "execution_count": 5,
   "metadata": {},
   "outputs": [
    {
     "name": "stdout",
     "output_type": "stream",
     "text": [
      "+-------+-----------------+\n",
      "|summary|           artist|\n",
      "+-------+-----------------+\n",
      "|  count|           432877|\n",
      "|   mean|527.5289537712895|\n",
      "| stddev|966.1072451772758|\n",
      "|    min|              !!!|\n",
      "|    max|ÃÂlafur Arnalds|\n",
      "+-------+-----------------+\n",
      "\n"
     ]
    }
   ],
   "source": [
    "data.describe('artist').show()"
   ]
  },
  {
   "cell_type": "code",
   "execution_count": 6,
   "metadata": {},
   "outputs": [
    {
     "name": "stdout",
     "output_type": "stream",
     "text": [
      "+-------+------------------+\n",
      "|summary|            userId|\n",
      "+-------+------------------+\n",
      "|  count|            543705|\n",
      "|   mean| 60268.42669103512|\n",
      "| stddev|109898.82324176628|\n",
      "|    min|                  |\n",
      "|    max|                99|\n",
      "+-------+------------------+\n",
      "\n"
     ]
    }
   ],
   "source": [
    "data.describe('userId').show()"
   ]
  },
  {
   "cell_type": "code",
   "execution_count": 7,
   "metadata": {},
   "outputs": [
    {
     "name": "stdout",
     "output_type": "stream",
     "text": [
      "+-------+------------------+\n",
      "|summary|         sessionId|\n",
      "+-------+------------------+\n",
      "|  count|            543705|\n",
      "|   mean|2040.8143533717732|\n",
      "| stddev| 1434.338931078271|\n",
      "|    min|                 1|\n",
      "|    max|              4808|\n",
      "+-------+------------------+\n",
      "\n"
     ]
    }
   ],
   "source": [
    "data.describe('sessionId').show()"
   ]
  },
  {
   "cell_type": "code",
   "execution_count": 8,
   "metadata": {},
   "outputs": [
    {
     "data": {
      "text/plain": [
       "543705"
      ]
     },
     "execution_count": 8,
     "metadata": {},
     "output_type": "execute_result"
    }
   ],
   "source": [
    "data.count()"
   ]
  },
  {
   "cell_type": "code",
   "execution_count": 9,
   "metadata": {},
   "outputs": [
    {
     "name": "stdout",
     "output_type": "stream",
     "text": [
      "+--------------------+\n",
      "|                page|\n",
      "+--------------------+\n",
      "|               About|\n",
      "|          Add Friend|\n",
      "|     Add to Playlist|\n",
      "|              Cancel|\n",
      "|Cancellation Conf...|\n",
      "|           Downgrade|\n",
      "|               Error|\n",
      "|                Help|\n",
      "|                Home|\n",
      "|               Login|\n",
      "|              Logout|\n",
      "|            NextSong|\n",
      "|            Register|\n",
      "|         Roll Advert|\n",
      "|       Save Settings|\n",
      "|            Settings|\n",
      "|    Submit Downgrade|\n",
      "| Submit Registration|\n",
      "|      Submit Upgrade|\n",
      "|         Thumbs Down|\n",
      "|           Thumbs Up|\n",
      "|             Upgrade|\n",
      "+--------------------+\n",
      "\n"
     ]
    }
   ],
   "source": [
    "data.select(\"page\").dropDuplicates().sort(\"page\").show(30)"
   ]
  },
  {
   "cell_type": "code",
   "execution_count": 10,
   "metadata": {},
   "outputs": [
    {
     "data": {
      "text/plain": [
       "[Row(userId='10', firstname='Brycen', page='NextSong', song='Ses Monuments'),\n",
       " Row(userId='10', firstname='Brycen', page='Home', song=None),\n",
       " Row(userId='10', firstname='Brycen', page='NextSong', song='Big Jet Plane'),\n",
       " Row(userId='10', firstname='Brycen', page='NextSong', song='Act Nice And Gentle'),\n",
       " Row(userId='10', firstname='Brycen', page='NextSong', song='Loca'),\n",
       " Row(userId='10', firstname='Brycen', page='NextSong', song='Inshallah'),\n",
       " Row(userId='10', firstname='Brycen', page='NextSong', song='Sex Packets (LP Version)'),\n",
       " Row(userId='10', firstname='Brycen', page='NextSong', song='Walking On A Dream'),\n",
       " Row(userId='10', firstname='Brycen', page='NextSong', song='Wrong Time_ Wrong Place'),\n",
       " Row(userId='10', firstname='Brycen', page='NextSong', song='Ulster'),\n",
       " Row(userId='10', firstname='Brycen', page='NextSong', song='The Day We All Died'),\n",
       " Row(userId='10', firstname='Brycen', page='NextSong', song='Sehr kosmisch'),\n",
       " Row(userId='10', firstname='Brycen', page='NextSong', song='Sweet Sue (Album Version)'),\n",
       " Row(userId='10', firstname='Brycen', page='NextSong', song='Rocket Queen'),\n",
       " Row(userId='10', firstname='Brycen', page='NextSong', song='So far so long'),\n",
       " Row(userId='10', firstname='Brycen', page='NextSong', song='Marry Me'),\n",
       " Row(userId='10', firstname='Brycen', page='NextSong', song='Gira TrÃ\\x83Â¡gica Y Amistosa Pt. 2'),\n",
       " Row(userId='10', firstname='Brycen', page='NextSong', song='The District Sleeps Alone Tonight (Album)'),\n",
       " Row(userId='10', firstname='Brycen', page='Downgrade', song=None),\n",
       " Row(userId='10', firstname='Brycen', page='NextSong', song='Loneliness'),\n",
       " Row(userId='10', firstname='Brycen', page='Logout', song=None),\n",
       " Row(userId='10', firstname='Brycen', page='Home', song=None),\n",
       " Row(userId='10', firstname='Brycen', page='Settings', song=None),\n",
       " Row(userId='10', firstname='Brycen', page='Logout', song=None),\n",
       " Row(userId='10', firstname='Brycen', page='Home', song=None),\n",
       " Row(userId='10', firstname='Brycen', page='Add Friend', song=None),\n",
       " Row(userId='10', firstname='Brycen', page='NextSong', song='Cocaine Habit'),\n",
       " Row(userId='10', firstname='Brycen', page='NextSong', song='Fireflies'),\n",
       " Row(userId='10', firstname='Brycen', page='NextSong', song='Ring My Bells'),\n",
       " Row(userId='10', firstname='Brycen', page='NextSong', song='Gravedigging'),\n",
       " Row(userId='10', firstname='Brycen', page='NextSong', song='Across 110th Street'),\n",
       " Row(userId='10', firstname='Brycen', page='NextSong', song='Hollywood Whore'),\n",
       " Row(userId='10', firstname='Brycen', page='NextSong', song='How We Do'),\n",
       " Row(userId='10', firstname='Brycen', page='NextSong', song='L.E.S. Artistes (Single)'),\n",
       " Row(userId='10', firstname='Brycen', page='Home', song=None),\n",
       " Row(userId='10', firstname='Brycen', page='NextSong', song='C.S. 7 (Contro StaticitÃ\\x83Â\\xa0)'),\n",
       " Row(userId='10', firstname='Brycen', page='NextSong', song=\"Who's Cryin' Now\"),\n",
       " Row(userId='10', firstname='Brycen', page='NextSong', song='Beware (Album Version)'),\n",
       " Row(userId='10', firstname='Brycen', page='NextSong', song='Threat'),\n",
       " Row(userId='10', firstname='Brycen', page='NextSong', song='Spanish Lady (Live From Slane Castle)'),\n",
       " Row(userId='10', firstname='Brycen', page='NextSong', song='The Scientist'),\n",
       " Row(userId='10', firstname='Brycen', page='Logout', song=None),\n",
       " Row(userId='10', firstname='Brycen', page='Home', song=None),\n",
       " Row(userId='10', firstname='Brycen', page='NextSong', song='Obsessed'),\n",
       " Row(userId='10', firstname='Brycen', page='Home', song=None),\n",
       " Row(userId='10', firstname='Brycen', page='NextSong', song=\"Frisch und g'sund\"),\n",
       " Row(userId='10', firstname='Brycen', page='NextSong', song='You And Me (Wedding Version)'),\n",
       " Row(userId='10', firstname='Brycen', page='NextSong', song='Welcome To The Black Parade (Album Version)'),\n",
       " Row(userId='10', firstname='Brycen', page='NextSong', song='Triangular Hydrogen Strain'),\n",
       " Row(userId='10', firstname='Brycen', page='NextSong', song='Still Alive'),\n",
       " Row(userId='10', firstname='Brycen', page='NextSong', song='Set You Free'),\n",
       " Row(userId='10', firstname='Brycen', page='NextSong', song=\"Ana's Song (Open Fire)\"),\n",
       " Row(userId='10', firstname='Brycen', page='NextSong', song='Together (Album Version)'),\n",
       " Row(userId='10', firstname='Brycen', page='NextSong', song=\"I Told Y'all\"),\n",
       " Row(userId='10', firstname='Brycen', page='NextSong', song='Rome'),\n",
       " Row(userId='10', firstname='Brycen', page='NextSong', song='Swallowed In The Sea'),\n",
       " Row(userId='10', firstname='Brycen', page='NextSong', song=\"Ain't Misbehavin\"),\n",
       " Row(userId='10', firstname='Brycen', page='NextSong', song='Bad Boys'),\n",
       " Row(userId='10', firstname='Brycen', page='NextSong', song='Hey_ Soul Sister'),\n",
       " Row(userId='10', firstname='Brycen', page='NextSong', song='Deepest Blue'),\n",
       " Row(userId='10', firstname='Brycen', page='Thumbs Up', song=None),\n",
       " Row(userId='10', firstname='Brycen', page='NextSong', song='La_ La_ La_ He_ He_ Hee ( LP Version)'),\n",
       " Row(userId='10', firstname='Brycen', page='NextSong', song='Genesis'),\n",
       " Row(userId='10', firstname='Brycen', page='Home', song=None),\n",
       " Row(userId='10', firstname='Brycen', page='NextSong', song='Leaving Town'),\n",
       " Row(userId='10', firstname='Brycen', page='NextSong', song='Dangerously In Love'),\n",
       " Row(userId='10', firstname='Brycen', page='NextSong', song='Agua'),\n",
       " Row(userId='10', firstname='Brycen', page='Home', song=None),\n",
       " Row(userId='10', firstname='Brycen', page='NextSong', song='Girl Money'),\n",
       " Row(userId='10', firstname='Brycen', page='NextSong', song='Estoy AquÃ\\x83Â\\xad'),\n",
       " Row(userId='10', firstname='Brycen', page='NextSong', song='Exit Row (Album)'),\n",
       " Row(userId='10', firstname='Brycen', page='NextSong', song='Patriach On A Vespa'),\n",
       " Row(userId='10', firstname='Brycen', page='NextSong', song='Move On Feat. Paul Macinnes'),\n",
       " Row(userId='10', firstname='Brycen', page='NextSong', song='Everybody Wants To Rule The World'),\n",
       " Row(userId='10', firstname='Brycen', page='NextSong', song='Gemini (Birthday Song)'),\n",
       " Row(userId='10', firstname='Brycen', page='Add to Playlist', song=None),\n",
       " Row(userId='10', firstname='Brycen', page='NextSong', song='We Will Rock You'),\n",
       " Row(userId='10', firstname='Brycen', page='NextSong', song='Sehr kosmisch'),\n",
       " Row(userId='10', firstname='Brycen', page='NextSong', song='Hello'),\n",
       " Row(userId='10', firstname='Brycen', page='NextSong', song='Rip Tide'),\n",
       " Row(userId='10', firstname='Brycen', page='NextSong', song='Artifacts of the black rain'),\n",
       " Row(userId='10', firstname='Brycen', page='NextSong', song='Deception'),\n",
       " Row(userId='10', firstname='Brycen', page='NextSong', song='Sweet home Alabama'),\n",
       " Row(userId='10', firstname='Brycen', page='NextSong', song='Grounds For Divorce'),\n",
       " Row(userId='10', firstname='Brycen', page='NextSong', song='Party In The U.S.A.'),\n",
       " Row(userId='10', firstname='Brycen', page='NextSong', song='Nobody Weird Like Me (2003 Digital Remaster)'),\n",
       " Row(userId='10', firstname='Brycen', page='NextSong', song='I Had A Real Good Mother And Father'),\n",
       " Row(userId='10', firstname='Brycen', page='NextSong', song='Woods'),\n",
       " Row(userId='10', firstname='Brycen', page='NextSong', song='Two Is Better Than One'),\n",
       " Row(userId='10', firstname='Brycen', page='NextSong', song='The Goldrush'),\n",
       " Row(userId='10', firstname='Brycen', page='NextSong', song='Smile Like You Mean It'),\n",
       " Row(userId='10', firstname='Brycen', page='NextSong', song='Miss Take (Album Version)'),\n",
       " Row(userId='10', firstname='Brycen', page='NextSong', song='No Rain'),\n",
       " Row(userId='10', firstname='Brycen', page='Add to Playlist', song=None),\n",
       " Row(userId='10', firstname='Brycen', page='NextSong', song='Dangerous Animals'),\n",
       " Row(userId='10', firstname='Brycen', page='NextSong', song='Die Kunst der Fuge_ BWV 1080 (2007 Digital Remaster): Contrapunctus XVII - Inversus'),\n",
       " Row(userId='10', firstname='Brycen', page='NextSong', song=\"You're The One\"),\n",
       " Row(userId='10', firstname='Brycen', page='NextSong', song='Gestern_Morgen'),\n",
       " Row(userId='10', firstname='Brycen', page='NextSong', song='Devil Inside'),\n",
       " Row(userId='10', firstname='Brycen', page='NextSong', song=\"You're The One\"),\n",
       " Row(userId='10', firstname='Brycen', page='NextSong', song='Three More Days'),\n",
       " Row(userId='10', firstname='Brycen', page='NextSong', song='Eyes As Candles'),\n",
       " Row(userId='10', firstname='Brycen', page='Thumbs Up', song=None),\n",
       " Row(userId='10', firstname='Brycen', page='NextSong', song='Ay Yo'),\n",
       " Row(userId='10', firstname='Brycen', page='NextSong', song='Jumper (2006 Remastered LP Version)'),\n",
       " Row(userId='10', firstname='Brycen', page='NextSong', song='My_ My_ My'),\n",
       " Row(userId='10', firstname='Brycen', page='NextSong', song='Rapture (Soulside Remix)'),\n",
       " Row(userId='10', firstname='Brycen', page='NextSong', song='Toxic Girl'),\n",
       " Row(userId='10', firstname='Brycen', page='Thumbs Down', song=None),\n",
       " Row(userId='10', firstname='Brycen', page='NextSong', song='Stroke You Up (LP Version)'),\n",
       " Row(userId='10', firstname='Brycen', page='NextSong', song='Ditto (Album Version)'),\n",
       " Row(userId='10', firstname='Brycen', page='NextSong', song='Mr.Curiosity  (Album Version)'),\n",
       " Row(userId='10', firstname='Brycen', page='NextSong', song='Kristy_ Are You Doing Okay?'),\n",
       " Row(userId='10', firstname='Brycen', page='NextSong', song='Superhuman Touch'),\n",
       " Row(userId='10', firstname='Brycen', page='NextSong', song='Nokian Takana'),\n",
       " Row(userId='10', firstname='Brycen', page='NextSong', song='Thinking Over'),\n",
       " Row(userId='10', firstname='Brycen', page='NextSong', song=\"I've Got Your Number\"),\n",
       " Row(userId='10', firstname='Brycen', page='NextSong', song='Newark Wilder'),\n",
       " Row(userId='10', firstname='Brycen', page='NextSong', song='Sympathy For The Devil'),\n",
       " Row(userId='10', firstname='Brycen', page='Add Friend', song=None),\n",
       " Row(userId='10', firstname='Brycen', page='NextSong', song='Small Fish'),\n",
       " Row(userId='10', firstname='Brycen', page='Thumbs Up', song=None),\n",
       " Row(userId='10', firstname='Brycen', page='NextSong', song='Come Tenderness'),\n",
       " Row(userId='10', firstname='Brycen', page='Home', song=None),\n",
       " Row(userId='10', firstname='Brycen', page='NextSong', song='For My Friends'),\n",
       " Row(userId='10', firstname='Brycen', page='NextSong', song='First Breath After Coma'),\n",
       " Row(userId='10', firstname='Brycen', page='NextSong', song='Danger Ft. T3 And Phat KAT'),\n",
       " Row(userId='10', firstname='Brycen', page='NextSong', song='The Bones Of You'),\n",
       " Row(userId='10', firstname='Brycen', page='NextSong', song='Now Is The Time'),\n",
       " Row(userId='10', firstname='Brycen', page='NextSong', song='Atiyosun'),\n",
       " Row(userId='10', firstname='Brycen', page='Thumbs Up', song=None),\n",
       " Row(userId='10', firstname='Brycen', page='NextSong', song='Precious'),\n",
       " Row(userId='10', firstname='Brycen', page='NextSong', song='Peace Among The Ruins'),\n",
       " Row(userId='10', firstname='Brycen', page='Home', song=None),\n",
       " Row(userId='10', firstname='Brycen', page='NextSong', song='Dom Andra'),\n",
       " Row(userId='10', firstname='Brycen', page='NextSong', song='Highway 20 Ride (Album)'),\n",
       " Row(userId='10', firstname='Brycen', page='Home', song=None),\n",
       " Row(userId='10', firstname='Brycen', page='NextSong', song='Ruby'),\n",
       " Row(userId='10', firstname='Brycen', page='NextSong', song='Somebody To Love'),\n",
       " Row(userId='10', firstname='Brycen', page='Add to Playlist', song=None),\n",
       " Row(userId='10', firstname='Brycen', page='NextSong', song='Home'),\n",
       " Row(userId='10', firstname='Brycen', page='NextSong', song='Mujer De Los 1000 Dias'),\n",
       " Row(userId='10', firstname='Brycen', page='NextSong', song='Uncomplicated'),\n",
       " Row(userId='10', firstname='Brycen', page='NextSong', song='How Death Comes'),\n",
       " Row(userId='10', firstname='Brycen', page='NextSong', song='All Night Long'),\n",
       " Row(userId='10', firstname='Brycen', page='NextSong', song='Frame by Frame'),\n",
       " Row(userId='10', firstname='Brycen', page='NextSong', song=\"Live Like We're Dying\"),\n",
       " Row(userId='10', firstname='Brycen', page='NextSong', song='Casting A Spell (Remixed) (1998 Digital Remaster)'),\n",
       " Row(userId='10', firstname='Brycen', page='NextSong', song=\"Mother's Little Helper\"),\n",
       " Row(userId='10', firstname='Brycen', page='NextSong', song='Champion'),\n",
       " Row(userId='10', firstname='Brycen', page='Help', song=None),\n",
       " Row(userId='10', firstname='Brycen', page='NextSong', song='Time Is Running Out'),\n",
       " Row(userId='10', firstname='Brycen', page='NextSong', song='Send A Message'),\n",
       " Row(userId='10', firstname='Brycen', page='NextSong', song='Strong Love (Not Ashamed Album Version)'),\n",
       " Row(userId='10', firstname='Brycen', page='Thumbs Up', song=None),\n",
       " Row(userId='10', firstname='Brycen', page='NextSong', song='Revelry'),\n",
       " Row(userId='10', firstname='Brycen', page='NextSong', song='Me Amo'),\n",
       " Row(userId='10', firstname='Brycen', page='NextSong', song='No Good 4 You'),\n",
       " Row(userId='10', firstname='Brycen', page='NextSong', song='Betrayer'),\n",
       " Row(userId='10', firstname='Brycen', page='NextSong', song='Our Time Now'),\n",
       " Row(userId='10', firstname='Brycen', page='NextSong', song='Bad Moon Rising'),\n",
       " Row(userId='10', firstname='Brycen', page='Thumbs Up', song=None),\n",
       " Row(userId='10', firstname='Brycen', page='NextSong', song='Two Wrongs'),\n",
       " Row(userId='10', firstname='Brycen', page='Thumbs Up', song=None),\n",
       " Row(userId='10', firstname='Brycen', page='Add to Playlist', song=None),\n",
       " Row(userId='10', firstname='Brycen', page='NextSong', song='Creepin Up The Backstairs'),\n",
       " Row(userId='10', firstname='Brycen', page='NextSong', song='Warp 1.9 (feat. Steve Aoki)'),\n",
       " Row(userId='10', firstname='Brycen', page='NextSong', song='Under Control'),\n",
       " Row(userId='10', firstname='Brycen', page='Add to Playlist', song=None),\n",
       " Row(userId='10', firstname='Brycen', page='NextSong', song='Working With Homesick'),\n",
       " Row(userId='10', firstname='Brycen', page='NextSong', song='Hey_ Soul Sister'),\n",
       " Row(userId='10', firstname='Brycen', page='NextSong', song='If I Ruled The World'),\n",
       " Row(userId='10', firstname='Brycen', page='NextSong', song='Sweetness In Starlight'),\n",
       " Row(userId='10', firstname='Brycen', page='NextSong', song='Sexy Bitch'),\n",
       " Row(userId='10', firstname='Brycen', page='NextSong', song=\"You're Gonna Miss Me When I'm Gone\"),\n",
       " Row(userId='10', firstname='Brycen', page='NextSong', song='Yeah!'),\n",
       " Row(userId='10', firstname='Brycen', page='NextSong', song='Criminal'),\n",
       " Row(userId='10', firstname='Brycen', page='NextSong', song='Change'),\n",
       " Row(userId='10', firstname='Brycen', page='NextSong', song='It Was A Good Day'),\n",
       " Row(userId='10', firstname='Brycen', page='NextSong', song='On Green Dolphin Street (Medley) (1999 Digital Remaster)'),\n",
       " Row(userId='10', firstname='Brycen', page='NextSong', song='From Left To Right'),\n",
       " Row(userId='10', firstname='Brycen', page='NextSong', song='Bontempi Latin'),\n",
       " Row(userId='10', firstname='Brycen', page='NextSong', song='Like A Rolling Stone'),\n",
       " Row(userId='10', firstname='Brycen', page='NextSong', song='I Suppose'),\n",
       " Row(userId='10', firstname='Brycen', page='NextSong', song='Once Bitten Twice Shy (2001 Digital Remaster)'),\n",
       " Row(userId='10', firstname='Brycen', page='Thumbs Up', song=None),\n",
       " Row(userId='10', firstname='Brycen', page='NextSong', song='Another Saturday Night'),\n",
       " Row(userId='10', firstname='Brycen', page='NextSong', song='Too Drunk to Fuck'),\n",
       " Row(userId='10', firstname='Brycen', page='NextSong', song='Sunny Road'),\n",
       " Row(userId='10', firstname='Brycen', page='NextSong', song='Costruire'),\n",
       " Row(userId='10', firstname='Brycen', page='NextSong', song='The Boy With The Thorn In His Side'),\n",
       " Row(userId='10', firstname='Brycen', page='NextSong', song='Whoa'),\n",
       " Row(userId='10', firstname='Brycen', page='NextSong', song='Undo'),\n",
       " Row(userId='10', firstname='Brycen', page='NextSong', song='Into The Atom Age (2001 Digital Remaster)'),\n",
       " Row(userId='10', firstname='Brycen', page='NextSong', song='This Charming Man'),\n",
       " Row(userId='10', firstname='Brycen', page='NextSong', song='Trains To Brazil'),\n",
       " Row(userId='10', firstname='Brycen', page='NextSong', song='Nineteen With Neck Tatz'),\n",
       " Row(userId='10', firstname='Brycen', page='NextSong', song='Kokoro - Angel Heart (album mix)'),\n",
       " Row(userId='10', firstname='Brycen', page='NextSong', song='Marry Me'),\n",
       " Row(userId='10', firstname='Brycen', page='NextSong', song='Tive Sim'),\n",
       " Row(userId='10', firstname='Brycen', page='NextSong', song='Forever'),\n",
       " Row(userId='10', firstname='Brycen', page='NextSong', song='Arma dispuesta'),\n",
       " Row(userId='10', firstname='Brycen', page='NextSong', song='Country Road'),\n",
       " Row(userId='10', firstname='Brycen', page='Help', song=None),\n",
       " Row(userId='10', firstname='Brycen', page='Home', song=None),\n",
       " Row(userId='10', firstname='Brycen', page='NextSong', song='Tuvan'),\n",
       " Row(userId='10', firstname='Brycen', page='NextSong', song='Love Drunk'),\n",
       " Row(userId='10', firstname='Brycen', page='NextSong', song='Feel The Love'),\n",
       " Row(userId='10', firstname='Brycen', page='NextSong', song='This Girl'),\n",
       " Row(userId='10', firstname='Brycen', page='NextSong', song='For Boston (Album Version)'),\n",
       " Row(userId='10', firstname='Brycen', page='NextSong', song='I Pray (Never Forget)'),\n",
       " Row(userId='10', firstname='Brycen', page='NextSong', song='Hit of the Search Party'),\n",
       " Row(userId='10', firstname='Brycen', page='NextSong', song='Arcade Robot'),\n",
       " Row(userId='10', firstname='Brycen', page='NextSong', song='Like I Love You'),\n",
       " Row(userId='10', firstname='Brycen', page='NextSong', song='Sheila (LP Version)'),\n",
       " Row(userId='10', firstname='Brycen', page='Add to Playlist', song=None),\n",
       " Row(userId='10', firstname='Brycen', page='NextSong', song='Halo'),\n",
       " Row(userId='10', firstname='Brycen', page='NextSong', song='Forgive Me'),\n",
       " Row(userId='10', firstname='Brycen', page='NextSong', song='Isabel'),\n",
       " Row(userId='10', firstname='Brycen', page='NextSong', song='She Said'),\n",
       " Row(userId='10', firstname='Brycen', page='NextSong', song='You Belong With Me'),\n",
       " Row(userId='10', firstname='Brycen', page='NextSong', song='Silence'),\n",
       " Row(userId='10', firstname='Brycen', page='NextSong', song='Interstate Love Song (LP Version)'),\n",
       " Row(userId='10', firstname='Brycen', page='NextSong', song='OMG'),\n",
       " Row(userId='10', firstname='Brycen', page='NextSong', song='Good Love Is On The Way'),\n",
       " Row(userId='10', firstname='Brycen', page='NextSong', song=\"You're The One\"),\n",
       " Row(userId='10', firstname='Brycen', page='NextSong', song='Composure'),\n",
       " Row(userId='10', firstname='Brycen', page='NextSong', song='Teach Me How To Dougie'),\n",
       " Row(userId='10', firstname='Brycen', page='NextSong', song='Photographs'),\n",
       " Row(userId='10', firstname='Brycen', page='NextSong', song=\"Sam's Town\"),\n",
       " Row(userId='10', firstname='Brycen', page='NextSong', song='Human'),\n",
       " Row(userId='10', firstname='Brycen', page='NextSong', song='Over And Over (Maurice Fulton Dub)'),\n",
       " Row(userId='10', firstname='Brycen', page='NextSong', song='Radiowecker'),\n",
       " Row(userId='10', firstname='Brycen', page='NextSong', song='Troubled Waters'),\n",
       " Row(userId='10', firstname='Brycen', page='NextSong', song='The Rat (Album Version)'),\n",
       " Row(userId='10', firstname='Brycen', page='NextSong', song='A Message...'),\n",
       " Row(userId='10', firstname='Brycen', page='Add to Playlist', song=None),\n",
       " Row(userId='10', firstname='Brycen', page='NextSong', song='Symphony No. 39 in E flat major K543: IV.     Allegro'),\n",
       " Row(userId='10', firstname='Brycen', page='NextSong', song='Venn Diagram'),\n",
       " Row(userId='10', firstname='Brycen', page='NextSong', song='Mutiny (album version)'),\n",
       " Row(userId='10', firstname='Brycen', page='NextSong', song=\"Wolves In Wolves' Clothing\"),\n",
       " Row(userId='10', firstname='Brycen', page='NextSong', song='!@*$%#'),\n",
       " Row(userId='10', firstname='Brycen', page='NextSong', song='Dance Stance'),\n",
       " Row(userId='10', firstname='Brycen', page='NextSong', song='Kissing You (Album Version)'),\n",
       " Row(userId='10', firstname='Brycen', page='NextSong', song='Corn Bread'),\n",
       " Row(userId='10', firstname='Brycen', page='NextSong', song='All About The Benjamins (Album Version)'),\n",
       " Row(userId='10', firstname='Brycen', page='NextSong', song='Feeling Chilly'),\n",
       " Row(userId='10', firstname='Brycen', page='NextSong', song='Peaches & Cream (full-length/album version)'),\n",
       " Row(userId='10', firstname='Brycen', page='NextSong', song='Fighting the Stall'),\n",
       " Row(userId='10', firstname='Brycen', page='NextSong', song='Wild World'),\n",
       " Row(userId='10', firstname='Brycen', page='NextSong', song=\"Don't Dream It's Over\"),\n",
       " Row(userId='10', firstname='Brycen', page='NextSong', song='Doctor Doctor (Live At The Budokan_ Tokyo 12/8/81) (2009 Digital Remaster)'),\n",
       " Row(userId='10', firstname='Brycen', page='NextSong', song='Holey Dime'),\n",
       " Row(userId='10', firstname='Brycen', page='NextSong', song='Their Law (Featuring Pop Will Eat Itself)'),\n",
       " Row(userId='10', firstname='Brycen', page='NextSong', song='Arms Of A Woman'),\n",
       " Row(userId='10', firstname='Brycen', page='NextSong', song='One In A Million'),\n",
       " Row(userId='10', firstname='Brycen', page='NextSong', song='Hills Of Stone'),\n",
       " Row(userId='10', firstname='Brycen', page='NextSong', song='Family Business'),\n",
       " Row(userId='10', firstname='Brycen', page='NextSong', song='When'),\n",
       " Row(userId='10', firstname='Brycen', page='NextSong', song='Macrotus'),\n",
       " Row(userId='10', firstname='Brycen', page='Thumbs Up', song=None),\n",
       " Row(userId='10', firstname='Brycen', page='NextSong', song=\"You're The One\"),\n",
       " Row(userId='10', firstname='Brycen', page='NextSong', song='How It Ends (Album version)'),\n",
       " Row(userId='10', firstname='Brycen', page='Add to Playlist', song=None),\n",
       " Row(userId='10', firstname='Brycen', page='NextSong', song='Rock Star'),\n",
       " Row(userId='10', firstname='Brycen', page='Add Friend', song=None),\n",
       " Row(userId='10', firstname='Brycen', page='NextSong', song='Way Away'),\n",
       " Row(userId='10', firstname='Brycen', page='NextSong', song='Chicago'),\n",
       " Row(userId='10', firstname='Brycen', page='Home', song=None),\n",
       " Row(userId='10', firstname='Brycen', page='NextSong', song='Disappear'),\n",
       " Row(userId='10', firstname='Brycen', page='NextSong', song='International Harvester'),\n",
       " Row(userId='10', firstname='Brycen', page='NextSong', song=\"Can't Get Away (2006 Remastered LP Version)\"),\n",
       " Row(userId='10', firstname='Brycen', page='NextSong', song='Do You Really Want To Hurt Me'),\n",
       " Row(userId='10', firstname='Brycen', page='NextSong', song=\"Reach Out And Touch (Somebody's Hand)\"),\n",
       " Row(userId='10', firstname='Brycen', page='NextSong', song='Beautiful Mourning (Explicit Album Version)'),\n",
       " Row(userId='10', firstname='Brycen', page='NextSong', song='Hey Mama'),\n",
       " Row(userId='10', firstname='Brycen', page='NextSong', song=\"It's Working\"),\n",
       " Row(userId='10', firstname='Brycen', page='NextSong', song='Ack Like You Know (Explicit Album Version)'),\n",
       " Row(userId='10', firstname='Brycen', page='NextSong', song='Closer'),\n",
       " Row(userId='10', firstname='Brycen', page='NextSong', song='To The Moon & Back'),\n",
       " Row(userId='10', firstname='Brycen', page='NextSong', song='Toxic (Britney Spears cover)'),\n",
       " Row(userId='10', firstname='Brycen', page='NextSong', song='All The Pretty Faces'),\n",
       " Row(userId='10', firstname='Brycen', page='NextSong', song='Orca (Album Version)'),\n",
       " Row(userId='10', firstname='Brycen', page='NextSong', song='My Ride'),\n",
       " Row(userId='10', firstname='Brycen', page='NextSong', song=\"Should've When You Could've (Album Version)\"),\n",
       " Row(userId='10', firstname='Brycen', page='NextSong', song='Phantom Part 1.5 (Album Version)'),\n",
       " Row(userId='10', firstname='Brycen', page='NextSong', song='Have You Ever Seen The Rain'),\n",
       " Row(userId='10', firstname='Brycen', page='NextSong', song='Bleed It Out [Live At Milton Keynes]'),\n",
       " Row(userId='10', firstname='Brycen', page='NextSong', song='Come Back to Me'),\n",
       " Row(userId='10', firstname='Brycen', page='Add to Playlist', song=None),\n",
       " Row(userId='10', firstname='Brycen', page='NextSong', song='Drops In The River'),\n",
       " Row(userId='10', firstname='Brycen', page='NextSong', song='You Get What You Give'),\n",
       " Row(userId='10', firstname='Brycen', page='NextSong', song='Everythang On Me'),\n",
       " Row(userId='10', firstname='Brycen', page='NextSong', song='Beloved'),\n",
       " Row(userId='10', firstname='Brycen', page='NextSong', song='Love Hurts (Remastered Album Version)'),\n",
       " Row(userId='10', firstname='Brycen', page='NextSong', song='Slang Blade'),\n",
       " Row(userId='10', firstname='Brycen', page='NextSong', song='Fast Jabroni'),\n",
       " Row(userId='10', firstname='Brycen', page='Add to Playlist', song=None),\n",
       " Row(userId='10', firstname='Brycen', page='NextSong', song='White Flag Warrior'),\n",
       " Row(userId='10', firstname='Brycen', page='NextSong', song=\"Come Home Quickly_ Darlin'\"),\n",
       " Row(userId='10', firstname='Brycen', page='NextSong', song='Tuff Love'),\n",
       " Row(userId='10', firstname='Brycen', page='NextSong', song='Molly'),\n",
       " Row(userId='10', firstname='Brycen', page='NextSong', song='Dream'),\n",
       " Row(userId='10', firstname='Brycen', page='Help', song=None),\n",
       " Row(userId='10', firstname='Brycen', page='NextSong', song='Recado Falado (MetrÃ\\x83Â´ Da Saudade)'),\n",
       " Row(userId='10', firstname='Brycen', page='NextSong', song='South Side'),\n",
       " Row(userId='10', firstname='Brycen', page='NextSong', song='Just A Boy'),\n",
       " Row(userId='10', firstname='Brycen', page='NextSong', song='Lava Lava'),\n",
       " Row(userId='10', firstname='Brycen', page='NextSong', song=\"I'm Not Ashamed (Greatest Hits Album Version) (2007 Digital Remaster)\"),\n",
       " Row(userId='10', firstname='Brycen', page='NextSong', song='No mÃ\\x83Â¡s'),\n",
       " Row(userId='10', firstname='Brycen', page='NextSong', song='Magic Carpet Ride'),\n",
       " Row(userId='10', firstname='Brycen', page='NextSong', song='Me Da Igual'),\n",
       " Row(userId='10', firstname='Brycen', page='NextSong', song='The Killing Moon'),\n",
       " Row(userId='10', firstname='Brycen', page='NextSong', song='In Space'),\n",
       " Row(userId='10', firstname='Brycen', page='Add to Playlist', song=None),\n",
       " Row(userId='10', firstname='Brycen', page='NextSong', song='Make Love To Your Mind'),\n",
       " Row(userId='10', firstname='Brycen', page='NextSong', song='Jesus Was A Cross Maker'),\n",
       " Row(userId='10', firstname='Brycen', page='Error', song=None),\n",
       " Row(userId='10', firstname='Brycen', page='NextSong', song='Honky Tonk Stomp'),\n",
       " Row(userId='10', firstname='Brycen', page='NextSong', song='Stunt 101'),\n",
       " Row(userId='10', firstname='Brycen', page='NextSong', song='Te Aviso_ Te Anuncio (Tango)'),\n",
       " Row(userId='10', firstname='Brycen', page='NextSong', song='Dance4life'),\n",
       " Row(userId='10', firstname='Brycen', page='NextSong', song='God Is A DJ'),\n",
       " Row(userId='10', firstname='Brycen', page='NextSong', song='DVNO'),\n",
       " Row(userId='10', firstname='Brycen', page='NextSong', song='Samarithan'),\n",
       " Row(userId='10', firstname='Brycen', page='NextSong', song='SinceritÃ\\x83Â© Et Jalousie'),\n",
       " Row(userId='10', firstname='Brycen', page='NextSong', song='Speak Softly Love'),\n",
       " Row(userId='10', firstname='Brycen', page='NextSong', song='Lovely Allen'),\n",
       " Row(userId='10', firstname='Brycen', page='Add to Playlist', song=None),\n",
       " Row(userId='10', firstname='Brycen', page='NextSong', song='The Quest'),\n",
       " Row(userId='10', firstname='Brycen', page='NextSong', song='Wreckhouse Stomp'),\n",
       " Row(userId='10', firstname='Brycen', page='Thumbs Up', song=None),\n",
       " Row(userId='10', firstname='Brycen', page='NextSong', song='When You Were Young'),\n",
       " Row(userId='10', firstname='Brycen', page='NextSong', song='Yellow Ledbetter'),\n",
       " Row(userId='10', firstname='Brycen', page='NextSong', song='Morao'),\n",
       " Row(userId='10', firstname='Brycen', page='NextSong', song='The Modern Leper'),\n",
       " Row(userId='10', firstname='Brycen', page='NextSong', song='In the Blue'),\n",
       " Row(userId='10', firstname='Brycen', page='NextSong', song='Sehr kosmisch'),\n",
       " Row(userId='10', firstname='Brycen', page='NextSong', song='The Modern Things'),\n",
       " Row(userId='10', firstname='Brycen', page='NextSong', song='Un Aro En La Nariz'),\n",
       " Row(userId='10', firstname='Brycen', page='NextSong', song=\"Clubbin' featuring Joe Budden (Remix) (Bonus Track)\"),\n",
       " Row(userId='10', firstname='Brycen', page='NextSong', song='Undo'),\n",
       " Row(userId='10', firstname='Brycen', page='NextSong', song='...And The Earth Said: Oh My God!'),\n",
       " Row(userId='10', firstname='Brycen', page='NextSong', song=\"You're All I Need To Get By\"),\n",
       " Row(userId='10', firstname='Brycen', page='NextSong', song='One More Night'),\n",
       " Row(userId='10', firstname='Brycen', page='NextSong', song='Mr. Brownstone'),\n",
       " Row(userId='10', firstname='Brycen', page='NextSong', song='Opera Singer'),\n",
       " Row(userId='10', firstname='Brycen', page='Thumbs Up', song=None),\n",
       " Row(userId='10', firstname='Brycen', page='Add to Playlist', song=None),\n",
       " Row(userId='10', firstname='Brycen', page='NextSong', song='Girl Stand Still'),\n",
       " Row(userId='10', firstname='Brycen', page='NextSong', song='Royal (Album Version)'),\n",
       " Row(userId='10', firstname='Brycen', page='NextSong', song='Eva Luna'),\n",
       " Row(userId='10', firstname='Brycen', page='Thumbs Up', song=None),\n",
       " Row(userId='10', firstname='Brycen', page='NextSong', song='Call Box'),\n",
       " Row(userId='10', firstname='Brycen', page='NextSong', song='Beautiful'),\n",
       " Row(userId='10', firstname='Brycen', page='NextSong', song='Gold Guns Girls'),\n",
       " Row(userId='10', firstname='Brycen', page='NextSong', song='Citizen/Soldier'),\n",
       " Row(userId='10', firstname='Brycen', page='Thumbs Up', song=None),\n",
       " Row(userId='10', firstname='Brycen', page='NextSong', song='Fight For Your Life'),\n",
       " Row(userId='10', firstname='Brycen', page='NextSong', song='Touch My Body'),\n",
       " Row(userId='10', firstname='Brycen', page='Logout', song=None),\n",
       " Row(userId='10', firstname='Brycen', page='Home', song=None),\n",
       " Row(userId='10', firstname='Brycen', page='NextSong', song='Liontamer'),\n",
       " Row(userId='10', firstname='Brycen', page='NextSong', song='Son kez'),\n",
       " Row(userId='10', firstname='Brycen', page='NextSong', song=\"If It's Love\"),\n",
       " Row(userId='10', firstname='Brycen', page='NextSong', song='Mykonos'),\n",
       " Row(userId='10', firstname='Brycen', page='NextSong', song='Morning Train (Nine to Five)'),\n",
       " Row(userId='10', firstname='Brycen', page='NextSong', song='Bulls On Parade'),\n",
       " Row(userId='10', firstname='Brycen', page='NextSong', song='Lullaby'),\n",
       " Row(userId='10', firstname='Brycen', page='NextSong', song='Supermassive Black Hole (Twilight Soundtrack Version)'),\n",
       " Row(userId='10', firstname='Brycen', page='Thumbs Up', song=None),\n",
       " Row(userId='10', firstname='Brycen', page='NextSong', song='Vuelve a casa'),\n",
       " Row(userId='10', firstname='Brycen', page='NextSong', song='Suena tu guitarra'),\n",
       " Row(userId='10', firstname='Brycen', page='NextSong', song='Joanna Foxtrot (Music for Dancing)'),\n",
       " Row(userId='10', firstname='Brycen', page='NextSong', song='All-O-Gistics'),\n",
       " Row(userId='10', firstname='Brycen', page='NextSong', song=\"Hey Daddy (Daddy's Home)\"),\n",
       " Row(userId='10', firstname='Brycen', page='NextSong', song='These Days'),\n",
       " Row(userId='10', firstname='Brycen', page='NextSong', song='Vem Comigo'),\n",
       " Row(userId='10', firstname='Brycen', page='NextSong', song='Christine'),\n",
       " Row(userId='10', firstname='Brycen', page='NextSong', song='Yellow'),\n",
       " Row(userId='10', firstname='Brycen', page='Add to Playlist', song=None),\n",
       " Row(userId='10', firstname='Brycen', page='NextSong', song='Joy Ride'),\n",
       " Row(userId='10', firstname='Brycen', page='Thumbs Up', song=None),\n",
       " Row(userId='10', firstname='Brycen', page='NextSong', song='Forest Chamber'),\n",
       " Row(userId='10', firstname='Brycen', page='NextSong', song='Somalia'),\n",
       " Row(userId='10', firstname='Brycen', page='NextSong', song=\"Basement Track (High Contrast's Upstairs Downstairs Remix)\"),\n",
       " Row(userId='10', firstname='Brycen', page='NextSong', song=\"Dreamin'\"),\n",
       " Row(userId='10', firstname='Brycen', page='NextSong', song='End Of A Century'),\n",
       " Row(userId='10', firstname='Brycen', page='NextSong', song='Strictly Rule'),\n",
       " Row(userId='10', firstname='Brycen', page='NextSong', song='Patience'),\n",
       " Row(userId='10', firstname='Brycen', page='NextSong', song='OMG'),\n",
       " Row(userId='10', firstname='Brycen', page='Home', song=None),\n",
       " Row(userId='10', firstname='Brycen', page='NextSong', song='Dirty Cash'),\n",
       " Row(userId='10', firstname='Brycen', page='NextSong', song='What Them Girls Like'),\n",
       " Row(userId='10', firstname='Brycen', page='NextSong', song='Maria'),\n",
       " Row(userId='10', firstname='Brycen', page='NextSong', song='The Outside'),\n",
       " Row(userId='10', firstname='Brycen', page='NextSong', song='Empty With You (Album Version)'),\n",
       " Row(userId='10', firstname='Brycen', page='NextSong', song='Catch You Baby (Steve Pitron & Max Sanna Radio Edit)'),\n",
       " Row(userId='10', firstname='Brycen', page='Thumbs Up', song=None),\n",
       " Row(userId='10', firstname='Brycen', page='NextSong', song='Holiday'),\n",
       " Row(userId='10', firstname='Brycen', page='NextSong', song='Untitled (Domestic Album Version)'),\n",
       " Row(userId='10', firstname='Brycen', page='NextSong', song=\"Don't Worry Be Happy\"),\n",
       " Row(userId='10', firstname='Brycen', page='NextSong', song='Flash In The Night'),\n",
       " Row(userId='10', firstname='Brycen', page='NextSong', song='Not Standing Alone'),\n",
       " Row(userId='10', firstname='Brycen', page='NextSong', song='Sorrow'),\n",
       " Row(userId='10', firstname='Brycen', page='NextSong', song='Sinisten tÃ\\x83Â¤htien alla'),\n",
       " Row(userId='10', firstname='Brycen', page='NextSong', song='Recovery'),\n",
       " Row(userId='10', firstname='Brycen', page='NextSong', song='Pienso En TÃ\\x83Â\\xad'),\n",
       " Row(userId='10', firstname='Brycen', page='NextSong', song='Losing Touch'),\n",
       " Row(userId='10', firstname='Brycen', page='NextSong', song='Supermarket'),\n",
       " Row(userId='10', firstname='Brycen', page='NextSong', song=\"Tu m'intrigues (with Sarah)\"),\n",
       " Row(userId='10', firstname='Brycen', page='NextSong', song='Society'),\n",
       " Row(userId='10', firstname='Brycen', page='NextSong', song='Relax'),\n",
       " Row(userId='10', firstname='Brycen', page='NextSong', song='A Girl Like You'),\n",
       " Row(userId='10', firstname='Brycen', page='NextSong', song='Supermassive Black Hole (Album Version)'),\n",
       " Row(userId='10', firstname='Brycen', page='NextSong', song='It Was A Good Day'),\n",
       " Row(userId='10', firstname='Brycen', page='NextSong', song='Hochmah (Interlude)'),\n",
       " Row(userId='10', firstname='Brycen', page='Thumbs Up', song=None),\n",
       " Row(userId='10', firstname='Brycen', page='NextSong', song='Bloody Tears'),\n",
       " Row(userId='10', firstname='Brycen', page='NextSong', song='Summertime Clothes'),\n",
       " Row(userId='10', firstname='Brycen', page='Settings', song=None),\n",
       " Row(userId='10', firstname='Brycen', page='Cancel', song=None),\n",
       " Row(userId='10', firstname='Brycen', page='Cancellation Confirmation', song=None)]"
      ]
     },
     "execution_count": 10,
     "metadata": {},
     "output_type": "execute_result"
    }
   ],
   "source": [
    "data.select([\"userId\", \"firstname\", \"page\", \"song\"]).where(data.userId == \"10\").collect()"
   ]
  },
  {
   "cell_type": "markdown",
   "metadata": {},
   "source": [
    "# Calculating statistics by hour"
   ]
  },
  {
   "cell_type": "code",
   "execution_count": 11,
   "metadata": {},
   "outputs": [],
   "source": [
    "get_hour = udf(lambda x: datetime.datetime.fromtimestamp(x / 1000.0). hour)"
   ]
  },
  {
   "cell_type": "code",
   "execution_count": 12,
   "metadata": {},
   "outputs": [],
   "source": [
    "data = data.withColumn(\"hour\", get_hour(data.ts))"
   ]
  },
  {
   "cell_type": "code",
   "execution_count": 13,
   "metadata": {},
   "outputs": [
    {
     "data": {
      "text/plain": [
       "Row(artist='Martin Orford', auth='Logged In', firstName='Joseph', gender='M', itemInSession=20, lastName='Morales', length=597.55057, level='free', location='Corpus Christi, TX', method='PUT', page='NextSong', registration=1532063507000, sessionId=292, song='Grand Designs', status=200, ts=1538352011000, userAgent='\"Mozilla/5.0 (Macintosh; Intel Mac OS X 10_9_4) AppleWebKit/537.36 (KHTML, like Gecko) Chrome/36.0.1985.125 Safari/537.36\"', userId='293', hour='0')"
      ]
     },
     "execution_count": 13,
     "metadata": {},
     "output_type": "execute_result"
    }
   ],
   "source": [
    "data.head()"
   ]
  },
  {
   "cell_type": "code",
   "execution_count": 14,
   "metadata": {},
   "outputs": [],
   "source": [
    "songs_in_hour = data.filter(data.page == \"NextSong\").groupby(data.hour).count().orderBy(data.hour.cast(\"float\"))"
   ]
  },
  {
   "cell_type": "code",
   "execution_count": 15,
   "metadata": {},
   "outputs": [
    {
     "name": "stdout",
     "output_type": "stream",
     "text": [
      "+----+-----+\n",
      "|hour|count|\n",
      "+----+-----+\n",
      "|   0|17555|\n",
      "|   1|17038|\n",
      "|   2|16265|\n",
      "|   3|15581|\n",
      "|   4|15430|\n",
      "|   5|15203|\n",
      "|   6|15094|\n",
      "|   7|15069|\n",
      "|   8|15045|\n",
      "|   9|15410|\n",
      "|  10|15476|\n",
      "|  11|16290|\n",
      "|  12|17230|\n",
      "|  13|17995|\n",
      "|  14|19978|\n",
      "|  15|21953|\n",
      "|  16|22542|\n",
      "|  17|22500|\n",
      "|  18|22223|\n",
      "|  19|21296|\n",
      "|  20|20336|\n",
      "|  21|19850|\n",
      "|  22|19191|\n",
      "|  23|18327|\n",
      "+----+-----+\n",
      "\n"
     ]
    }
   ],
   "source": [
    "songs_in_hour.show(24)"
   ]
  },
  {
   "cell_type": "code",
   "execution_count": 16,
   "metadata": {},
   "outputs": [],
   "source": [
    "songs_in_hour_pd = songs_in_hour.toPandas()\n",
    "songs_in_hour_pd.hour = pd.to_numeric(songs_in_hour_pd.hour)"
   ]
  },
  {
   "cell_type": "code",
   "execution_count": 17,
   "metadata": {},
   "outputs": [
    {
     "data": {
      "image/png": "[encoded data removed]",
      "text/plain": [
       "<Figure size 432x288 with 1 Axes>"
      ]
     },
     "metadata": {
      "needs_background": "light"
     },
     "output_type": "display_data"
    }
   ],
   "source": [
    "plt.plot(songs_in_hour_pd[\"hour\"], songs_in_hour_pd[\"count\"])\n",
    "plt.xlim(-1, 24);\n",
    "plt.ylim(0, 1.2 * max(songs_in_hour_pd[\"count\"]))\n",
    "plt.xlabel(\"Hour\")\n",
    "plt.ylabel(\"Songs played\");"
   ]
  },
  {
   "cell_type": "markdown",
   "metadata": {},
   "source": [
    "# Drop rows with missing values"
   ]
  },
  {
   "cell_type": "code",
   "execution_count": 18,
   "metadata": {},
   "outputs": [],
   "source": [
    "data_valid = data.dropna(how = \"any\", subset = [\"userId\", \"sessionId\"])"
   ]
  },
  {
   "cell_type": "code",
   "execution_count": 19,
   "metadata": {},
   "outputs": [
    {
     "data": {
      "text/plain": [
       "543705"
      ]
     },
     "execution_count": 19,
     "metadata": {},
     "output_type": "execute_result"
    }
   ],
   "source": [
    "data_valid.count()"
   ]
  },
  {
   "cell_type": "code",
   "execution_count": 20,
   "metadata": {},
   "outputs": [
    {
     "name": "stdout",
     "output_type": "stream",
     "text": [
      "+------+\n",
      "|userId|\n",
      "+------+\n",
      "|      |\n",
      "|    10|\n",
      "|   100|\n",
      "|100001|\n",
      "|100002|\n",
      "|100003|\n",
      "|100004|\n",
      "|100005|\n",
      "|100006|\n",
      "|100007|\n",
      "|100008|\n",
      "|100009|\n",
      "|100010|\n",
      "|100011|\n",
      "|100012|\n",
      "|100013|\n",
      "|100014|\n",
      "|100015|\n",
      "|100016|\n",
      "|100017|\n",
      "+------+\n",
      "only showing top 20 rows\n",
      "\n"
     ]
    }
   ],
   "source": [
    "data.select(\"userId\").dropDuplicates().sort(\"userId\").show()"
   ]
  },
  {
   "cell_type": "markdown",
   "metadata": {},
   "source": [
    "We see in the first row that are userID values that are empty strings."
   ]
  },
  {
   "cell_type": "code",
   "execution_count": 21,
   "metadata": {},
   "outputs": [],
   "source": [
    "data_valid = data_valid.filter(data_valid[\"userId\"] != \"\")"
   ]
  },
  {
   "cell_type": "code",
   "execution_count": 22,
   "metadata": {},
   "outputs": [
    {
     "data": {
      "text/plain": [
       "528005"
      ]
     },
     "execution_count": 22,
     "metadata": {},
     "output_type": "execute_result"
    }
   ],
   "source": [
    "data_valid.count()"
   ]
  },
  {
   "cell_type": "markdown",
   "metadata": {},
   "source": [
    "# Users Downgrade Their Accounts"
   ]
  },
  {
   "cell_type": "code",
   "execution_count": 23,
   "metadata": {},
   "outputs": [
    {
     "data": {
      "text/plain": [
       "DataFrame[artist: string, auth: string, firstName: string, gender: string, itemInSession: bigint, lastName: string, length: double, level: string, location: string, method: string, page: string, registration: bigint, sessionId: bigint, song: string, status: bigint, ts: bigint, userAgent: string, userId: string, hour: string]"
      ]
     },
     "execution_count": 23,
     "metadata": {},
     "output_type": "execute_result"
    }
   ],
   "source": [
    "data_valid.filter(\"Page = 'Submit Downgrade'\")"
   ]
  },
  {
   "cell_type": "code",
   "execution_count": 24,
   "metadata": {},
   "outputs": [],
   "source": [
    "flag_downgrade_event = udf(lambda x: 1 if x == \"Submit Downgrade\" else 0, IntegerType())"
   ]
  },
  {
   "cell_type": "code",
   "execution_count": 25,
   "metadata": {},
   "outputs": [],
   "source": [
    "data_downgrade = data_valid.withColumn(\"downgraded\", flag_downgrade_event(\"page\"))"
   ]
  },
  {
   "cell_type": "code",
   "execution_count": 26,
   "metadata": {},
   "outputs": [
    {
     "name": "stdout",
     "output_type": "stream",
     "text": [
      "+-----------------+---------+---------+------+-------------+--------+---------+-----+--------------------+------+--------+-------------+---------+-------------+------+-------------+--------------------+------+----+----------+\n",
      "|           artist|     auth|firstName|gender|itemInSession|lastName|   length|level|            location|method|    page| registration|sessionId|         song|status|           ts|           userAgent|userId|hour|downgraded|\n",
      "+-----------------+---------+---------+------+-------------+--------+---------+-----+--------------------+------+--------+-------------+---------+-------------+------+-------------+--------------------+------+----+----------+\n",
      "|    Martin Orford|Logged In|   Joseph|     M|           20| Morales|597.55057| free|  Corpus Christi, TX|   PUT|NextSong|1532063507000|      292|Grand Designs|   200|1538352011000|\"Mozilla/5.0 (Mac...|   293|   0|         0|\n",
      "|John Brown's Body|Logged In|   Sawyer|     M|           74|  Larson|380.21179| free|Houston-The Woodl...|   PUT|NextSong|1538069638000|       97|        Bulls|   200|1538352025000|\"Mozilla/5.0 (Mac...|    98|   0|         0|\n",
      "+-----------------+---------+---------+------+-------------+--------+---------+-----+--------------------+------+--------+-------------+---------+-------------+------+-------------+--------------------+------+----+----------+\n",
      "only showing top 2 rows\n",
      "\n"
     ]
    }
   ],
   "source": [
    "data_downgrade.show(2)"
   ]
  },
  {
   "cell_type": "code",
   "execution_count": 27,
   "metadata": {},
   "outputs": [],
   "source": [
    "# Window function that let us focus on the partition we need. We use this to both downgraded and churn analysis\n",
    "\n",
    "windowval = Window.partitionBy(\"userId\").orderBy(desc(\"ts\")).rangeBetween(Window.unboundedPreceding, 0)"
   ]
  },
  {
   "cell_type": "code",
   "execution_count": 28,
   "metadata": {},
   "outputs": [],
   "source": [
    "data_ever_downgrade = data_downgrade.withColumn(\"ever_downgraded\", Fsum(\"downgraded\").over(windowval))"
   ]
  },
  {
   "cell_type": "code",
   "execution_count": 29,
   "metadata": {},
   "outputs": [
    {
     "name": "stdout",
     "output_type": "stream",
     "text": [
      "+------+---------+-------------+--------------------+-----+---------------+\n",
      "|userId|firstname|           ts|                page|level|ever_downgraded|\n",
      "+------+---------+-------------+--------------------+-----+---------------+\n",
      "|100010| Darianna|1539254318000|Cancellation Conf...| free|              0|\n",
      "|100010| Darianna|1539254305000|              Cancel| free|              0|\n",
      "|100010| Darianna|1539254304000|         Roll Advert| free|              0|\n",
      "|100010| Darianna|1539254279000|            NextSong| free|              0|\n",
      "|100010| Darianna|1539254097000|            NextSong| free|              0|\n",
      "+------+---------+-------------+--------------------+-----+---------------+\n",
      "only showing top 5 rows\n",
      "\n"
     ]
    }
   ],
   "source": [
    "data_ever_downgrade.select([\"userId\", \"firstname\", \"ts\", \"page\", \"level\", \"ever_downgraded\"]).show(5)"
   ]
  },
  {
   "cell_type": "markdown",
   "metadata": {},
   "source": [
    "# Define Churn"
   ]
  },
  {
   "cell_type": "code",
   "execution_count": 30,
   "metadata": {},
   "outputs": [],
   "source": [
    "# Cancellation confirmation\n",
    "\n",
    "cancel_conf = data_valid.filter(\"Page = 'Cancellation Confirmation'\")"
   ]
  },
  {
   "cell_type": "code",
   "execution_count": 31,
   "metadata": {},
   "outputs": [],
   "source": [
    "flag_cancel_event = udf(lambda x: 1 if x == \"Cancellation Confirmation\" else 0, IntegerType())"
   ]
  },
  {
   "cell_type": "code",
   "execution_count": 32,
   "metadata": {},
   "outputs": [],
   "source": [
    "data_churn = data_valid.withColumn(\"churn\", flag_cancel_event(\"page\"))"
   ]
  },
  {
   "cell_type": "code",
   "execution_count": 33,
   "metadata": {},
   "outputs": [],
   "source": [
    "data_ever_churn = data_churn.withColumn(\"ever_churn\", Fsum(\"churn\").over(windowval))"
   ]
  },
  {
   "cell_type": "markdown",
   "metadata": {},
   "source": [
    "#### Let's create some useful columns to use later"
   ]
  },
  {
   "cell_type": "code",
   "execution_count": 34,
   "metadata": {},
   "outputs": [],
   "source": [
    "# Create column 'time' to better read the time\n",
    "time_parser = udf(lambda x: datetime.datetime.fromtimestamp(x / 1000.0).strftime(\"%Y-%m-%d %H:%M:%S\"))\n",
    "data_time = data_ever_churn.withColumn('time', time_parser('ts'))\n",
    "data_time = data_time.withColumn('time_registration', time_parser('registration'))\n"
   ]
  },
  {
   "cell_type": "code",
   "execution_count": null,
   "metadata": {},
   "outputs": [],
   "source": []
  },
  {
   "cell_type": "code",
   "execution_count": null,
   "metadata": {},
   "outputs": [],
   "source": []
  },
  {
   "cell_type": "code",
   "execution_count": 35,
   "metadata": {},
   "outputs": [],
   "source": [
    "data_to_analyse = data_time.select([\"userId\",\"gender\", \"time\", \"page\", \"level\", \"ever_churn\"]) \\\n",
    "             .dropDuplicates(['userId']) \\\n",
    "             .sort(['userId'])"
   ]
  },
  {
   "cell_type": "code",
   "execution_count": 36,
   "metadata": {},
   "outputs": [
    {
     "name": "stdout",
     "output_type": "stream",
     "text": [
      "+------+------+-------------------+--------------------+-----+----------+\n",
      "|userId|gender|               time|                page|level|ever_churn|\n",
      "+------+------+-------------------+--------------------+-----+----------+\n",
      "|    10|     M|2018-10-09 03:22:44|Cancellation Conf...| paid|         1|\n",
      "|   100|     M|2018-11-30 19:34:28|           Thumbs Up| paid|         0|\n",
      "|100001|     F|2018-10-02 14:50:59|Cancellation Conf...| free|         1|\n",
      "|100002|     F|2018-11-02 08:17:40|         Roll Advert| free|         0|\n",
      "|100003|     F|2018-11-08 07:19:52|Cancellation Conf...| paid|         1|\n",
      "+------+------+-------------------+--------------------+-----+----------+\n",
      "only showing top 5 rows\n",
      "\n"
     ]
    }
   ],
   "source": [
    "data_to_analyse.show(5)"
   ]
  },
  {
   "cell_type": "markdown",
   "metadata": {},
   "source": [
    "# ------------------------------ Data Analysis --------------------------------------------"
   ]
  },
  {
   "cell_type": "markdown",
   "metadata": {},
   "source": [
    "### Total proportion of users that cancel vs. those who don't give up"
   ]
  },
  {
   "cell_type": "code",
   "execution_count": 37,
   "metadata": {},
   "outputs": [],
   "source": [
    "# First I'm going to calculate the total percentage of user that cancel in relation to users who no cancel\n",
    "data_cancel_proportion = data_to_analyse.groupby(['ever_churn']).count().toPandas()"
   ]
  },
  {
   "cell_type": "code",
   "execution_count": 38,
   "metadata": {},
   "outputs": [
    {
     "data": {
      "text/html": [
       "<div>\n",
       "<style scoped>\n",
       "    .dataframe tbody tr th:only-of-type {\n",
       "        vertical-align: middle;\n",
       "    }\n",
       "\n",
       "    .dataframe tbody tr th {\n",
       "        vertical-align: top;\n",
       "    }\n",
       "\n",
       "    .dataframe thead th {\n",
       "        text-align: right;\n",
       "    }\n",
       "</style>\n",
       "<table border=\"1\" class=\"dataframe\">\n",
       "  <thead>\n",
       "    <tr style=\"text-align: right;\">\n",
       "      <th></th>\n",
       "      <th>ever_churn</th>\n",
       "      <th>count</th>\n",
       "    </tr>\n",
       "  </thead>\n",
       "  <tbody>\n",
       "    <tr>\n",
       "      <th>0</th>\n",
       "      <td>0</td>\n",
       "      <td>349</td>\n",
       "    </tr>\n",
       "    <tr>\n",
       "      <th>1</th>\n",
       "      <td>1</td>\n",
       "      <td>99</td>\n",
       "    </tr>\n",
       "  </tbody>\n",
       "</table>\n",
       "</div>"
      ],
      "text/plain": [
       "   ever_churn  count\n",
       "0           0    349\n",
       "1           1     99"
      ]
     },
     "execution_count": 38,
     "metadata": {},
     "output_type": "execute_result"
    }
   ],
   "source": [
    "data_cancel_proportion"
   ]
  },
  {
   "cell_type": "code",
   "execution_count": 39,
   "metadata": {},
   "outputs": [
    {
     "data": {
      "text/html": [
       "<div>\n",
       "<style scoped>\n",
       "    .dataframe tbody tr th:only-of-type {\n",
       "        vertical-align: middle;\n",
       "    }\n",
       "\n",
       "    .dataframe tbody tr th {\n",
       "        vertical-align: top;\n",
       "    }\n",
       "\n",
       "    .dataframe thead th {\n",
       "        text-align: right;\n",
       "    }\n",
       "</style>\n",
       "<table border=\"1\" class=\"dataframe\">\n",
       "  <thead>\n",
       "    <tr style=\"text-align: right;\">\n",
       "      <th></th>\n",
       "      <th>ever_churn</th>\n",
       "      <th>count</th>\n",
       "      <th>percentage</th>\n",
       "    </tr>\n",
       "  </thead>\n",
       "  <tbody>\n",
       "    <tr>\n",
       "      <th>0</th>\n",
       "      <td>0</td>\n",
       "      <td>349</td>\n",
       "      <td>0.779018</td>\n",
       "    </tr>\n",
       "    <tr>\n",
       "      <th>1</th>\n",
       "      <td>1</td>\n",
       "      <td>99</td>\n",
       "      <td>0.220982</td>\n",
       "    </tr>\n",
       "  </tbody>\n",
       "</table>\n",
       "</div>"
      ],
      "text/plain": [
       "   ever_churn  count  percentage\n",
       "0           0    349    0.779018\n",
       "1           1     99    0.220982"
      ]
     },
     "execution_count": 39,
     "metadata": {},
     "output_type": "execute_result"
    }
   ],
   "source": [
    "data_cancel_proportion['percentage'] = data_cancel_proportion['count']/data_cancel_proportion['count'].sum()\n",
    "data_cancel_proportion"
   ]
  },
  {
   "cell_type": "code",
   "execution_count": 40,
   "metadata": {},
   "outputs": [
    {
     "data": {
      "image/png": "[encoded data removed]",
      "text/plain": [
       "<Figure size 432x288 with 1 Axes>"
      ]
     },
     "metadata": {
      "needs_background": "light"
     },
     "output_type": "display_data"
    }
   ],
   "source": [
    "sns.barplot(x='ever_churn', y='percentage', data=data_cancel_proportion);"
   ]
  },
  {
   "cell_type": "markdown",
   "metadata": {},
   "source": [
    "### Analysis by gender"
   ]
  },
  {
   "cell_type": "code",
   "execution_count": 41,
   "metadata": {},
   "outputs": [],
   "source": [
    "data_by_gender = data_to_analyse.groupby(['gender', 'ever_churn']).count().toPandas()"
   ]
  },
  {
   "cell_type": "code",
   "execution_count": 42,
   "metadata": {},
   "outputs": [
    {
     "data": {
      "text/html": [
       "<div>\n",
       "<style scoped>\n",
       "    .dataframe tbody tr th:only-of-type {\n",
       "        vertical-align: middle;\n",
       "    }\n",
       "\n",
       "    .dataframe tbody tr th {\n",
       "        vertical-align: top;\n",
       "    }\n",
       "\n",
       "    .dataframe thead th {\n",
       "        text-align: right;\n",
       "    }\n",
       "</style>\n",
       "<table border=\"1\" class=\"dataframe\">\n",
       "  <thead>\n",
       "    <tr style=\"text-align: right;\">\n",
       "      <th></th>\n",
       "      <th>gender</th>\n",
       "      <th>ever_churn</th>\n",
       "      <th>count</th>\n",
       "    </tr>\n",
       "  </thead>\n",
       "  <tbody>\n",
       "    <tr>\n",
       "      <th>0</th>\n",
       "      <td>F</td>\n",
       "      <td>0</td>\n",
       "      <td>153</td>\n",
       "    </tr>\n",
       "    <tr>\n",
       "      <th>1</th>\n",
       "      <td>F</td>\n",
       "      <td>1</td>\n",
       "      <td>45</td>\n",
       "    </tr>\n",
       "    <tr>\n",
       "      <th>2</th>\n",
       "      <td>M</td>\n",
       "      <td>0</td>\n",
       "      <td>196</td>\n",
       "    </tr>\n",
       "    <tr>\n",
       "      <th>3</th>\n",
       "      <td>M</td>\n",
       "      <td>1</td>\n",
       "      <td>54</td>\n",
       "    </tr>\n",
       "  </tbody>\n",
       "</table>\n",
       "</div>"
      ],
      "text/plain": [
       "  gender  ever_churn  count\n",
       "0      F           0    153\n",
       "1      F           1     45\n",
       "2      M           0    196\n",
       "3      M           1     54"
      ]
     },
     "execution_count": 42,
     "metadata": {},
     "output_type": "execute_result"
    }
   ],
   "source": [
    "data_by_gender"
   ]
  },
  {
   "cell_type": "code",
   "execution_count": 43,
   "metadata": {},
   "outputs": [],
   "source": [
    "percentage = [153/349,45/99,196/349,54/99]\n",
    "data_by_gender['percentage'] = percentage"
   ]
  },
  {
   "cell_type": "code",
   "execution_count": 44,
   "metadata": {},
   "outputs": [
    {
     "data": {
      "text/html": [
       "<div>\n",
       "<style scoped>\n",
       "    .dataframe tbody tr th:only-of-type {\n",
       "        vertical-align: middle;\n",
       "    }\n",
       "\n",
       "    .dataframe tbody tr th {\n",
       "        vertical-align: top;\n",
       "    }\n",
       "\n",
       "    .dataframe thead th {\n",
       "        text-align: right;\n",
       "    }\n",
       "</style>\n",
       "<table border=\"1\" class=\"dataframe\">\n",
       "  <thead>\n",
       "    <tr style=\"text-align: right;\">\n",
       "      <th></th>\n",
       "      <th>gender</th>\n",
       "      <th>ever_churn</th>\n",
       "      <th>count</th>\n",
       "      <th>percentage</th>\n",
       "    </tr>\n",
       "  </thead>\n",
       "  <tbody>\n",
       "    <tr>\n",
       "      <th>0</th>\n",
       "      <td>F</td>\n",
       "      <td>0</td>\n",
       "      <td>153</td>\n",
       "      <td>0.438395</td>\n",
       "    </tr>\n",
       "    <tr>\n",
       "      <th>1</th>\n",
       "      <td>F</td>\n",
       "      <td>1</td>\n",
       "      <td>45</td>\n",
       "      <td>0.454545</td>\n",
       "    </tr>\n",
       "    <tr>\n",
       "      <th>2</th>\n",
       "      <td>M</td>\n",
       "      <td>0</td>\n",
       "      <td>196</td>\n",
       "      <td>0.561605</td>\n",
       "    </tr>\n",
       "    <tr>\n",
       "      <th>3</th>\n",
       "      <td>M</td>\n",
       "      <td>1</td>\n",
       "      <td>54</td>\n",
       "      <td>0.545455</td>\n",
       "    </tr>\n",
       "  </tbody>\n",
       "</table>\n",
       "</div>"
      ],
      "text/plain": [
       "  gender  ever_churn  count  percentage\n",
       "0      F           0    153    0.438395\n",
       "1      F           1     45    0.454545\n",
       "2      M           0    196    0.561605\n",
       "3      M           1     54    0.545455"
      ]
     },
     "execution_count": 44,
     "metadata": {},
     "output_type": "execute_result"
    }
   ],
   "source": [
    "data_by_gender"
   ]
  },
  {
   "cell_type": "code",
   "execution_count": 45,
   "metadata": {},
   "outputs": [
    {
     "data": {
      "image/png": "[encoded data removed]",
      "text/plain": [
       "<Figure size 432x288 with 1 Axes>"
      ]
     },
     "metadata": {
      "needs_background": "light"
     },
     "output_type": "display_data"
    }
   ],
   "source": [
    "ax = sns.barplot(x='ever_churn', y='percentage', hue='gender', data=data_by_gender)"
   ]
  },
  {
   "cell_type": "markdown",
   "metadata": {},
   "source": [
    "I don't observe the gender have influence in the churn rate"
   ]
  },
  {
   "cell_type": "markdown",
   "metadata": {},
   "source": [
    "### Users churn analysis by level"
   ]
  },
  {
   "cell_type": "code",
   "execution_count": 46,
   "metadata": {},
   "outputs": [],
   "source": [
    "data_level = data_to_analyse.groupby(['level', 'ever_churn']).count().toPandas()"
   ]
  },
  {
   "cell_type": "code",
   "execution_count": 47,
   "metadata": {},
   "outputs": [
    {
     "data": {
      "text/html": [
       "<div>\n",
       "<style scoped>\n",
       "    .dataframe tbody tr th:only-of-type {\n",
       "        vertical-align: middle;\n",
       "    }\n",
       "\n",
       "    .dataframe tbody tr th {\n",
       "        vertical-align: top;\n",
       "    }\n",
       "\n",
       "    .dataframe thead th {\n",
       "        text-align: right;\n",
       "    }\n",
       "</style>\n",
       "<table border=\"1\" class=\"dataframe\">\n",
       "  <thead>\n",
       "    <tr style=\"text-align: right;\">\n",
       "      <th></th>\n",
       "      <th>level</th>\n",
       "      <th>ever_churn</th>\n",
       "      <th>count</th>\n",
       "    </tr>\n",
       "  </thead>\n",
       "  <tbody>\n",
       "    <tr>\n",
       "      <th>0</th>\n",
       "      <td>free</td>\n",
       "      <td>0</td>\n",
       "      <td>140</td>\n",
       "    </tr>\n",
       "    <tr>\n",
       "      <th>1</th>\n",
       "      <td>paid</td>\n",
       "      <td>0</td>\n",
       "      <td>209</td>\n",
       "    </tr>\n",
       "    <tr>\n",
       "      <th>2</th>\n",
       "      <td>free</td>\n",
       "      <td>1</td>\n",
       "      <td>32</td>\n",
       "    </tr>\n",
       "    <tr>\n",
       "      <th>3</th>\n",
       "      <td>paid</td>\n",
       "      <td>1</td>\n",
       "      <td>67</td>\n",
       "    </tr>\n",
       "  </tbody>\n",
       "</table>\n",
       "</div>"
      ],
      "text/plain": [
       "  level  ever_churn  count\n",
       "0  free           0    140\n",
       "1  paid           0    209\n",
       "2  free           1     32\n",
       "3  paid           1     67"
      ]
     },
     "execution_count": 47,
     "metadata": {},
     "output_type": "execute_result"
    }
   ],
   "source": [
    "data_level"
   ]
  },
  {
   "cell_type": "code",
   "execution_count": 48,
   "metadata": {},
   "outputs": [],
   "source": [
    "percentage2 = [140/349,209/349,32/99,67/99]\n",
    "data_level['percentage'] = percentage2"
   ]
  },
  {
   "cell_type": "code",
   "execution_count": 49,
   "metadata": {},
   "outputs": [
    {
     "data": {
      "image/png": "[encoded data removed]",
      "text/plain": [
       "<Figure size 432x288 with 1 Axes>"
      ]
     },
     "metadata": {
      "needs_background": "light"
     },
     "output_type": "display_data"
    }
   ],
   "source": [
    "sns.barplot(x='ever_churn', y='percentage', hue='level', data=data_level);"
   ]
  },
  {
   "cell_type": "markdown",
   "metadata": {},
   "source": [
    "it seems that the level influence when cancel the service because the paid level cancel more than the free level in relative terms"
   ]
  },
  {
   "cell_type": "markdown",
   "metadata": {},
   "source": [
    "### Thumbs Up"
   ]
  },
  {
   "cell_type": "code",
   "execution_count": 50,
   "metadata": {},
   "outputs": [],
   "source": [
    "data_thumbsUp = data_time.where('page==\"Thumbs Up\"').groupby(['ever_churn']).count().toPandas()"
   ]
  },
  {
   "cell_type": "code",
   "execution_count": 51,
   "metadata": {},
   "outputs": [
    {
     "data": {
      "text/html": [
       "<div>\n",
       "<style scoped>\n",
       "    .dataframe tbody tr th:only-of-type {\n",
       "        vertical-align: middle;\n",
       "    }\n",
       "\n",
       "    .dataframe tbody tr th {\n",
       "        vertical-align: top;\n",
       "    }\n",
       "\n",
       "    .dataframe thead th {\n",
       "        text-align: right;\n",
       "    }\n",
       "</style>\n",
       "<table border=\"1\" class=\"dataframe\">\n",
       "  <thead>\n",
       "    <tr style=\"text-align: right;\">\n",
       "      <th></th>\n",
       "      <th>ever_churn</th>\n",
       "      <th>count</th>\n",
       "    </tr>\n",
       "  </thead>\n",
       "  <tbody>\n",
       "    <tr>\n",
       "      <th>0</th>\n",
       "      <td>0</td>\n",
       "      <td>19526</td>\n",
       "    </tr>\n",
       "    <tr>\n",
       "      <th>1</th>\n",
       "      <td>1</td>\n",
       "      <td>4300</td>\n",
       "    </tr>\n",
       "  </tbody>\n",
       "</table>\n",
       "</div>"
      ],
      "text/plain": [
       "   ever_churn  count\n",
       "0           0  19526\n",
       "1           1   4300"
      ]
     },
     "execution_count": 51,
     "metadata": {},
     "output_type": "execute_result"
    }
   ],
   "source": [
    "data_thumbsUp"
   ]
  },
  {
   "cell_type": "code",
   "execution_count": 52,
   "metadata": {},
   "outputs": [],
   "source": [
    "# We have to weigh the count with the percentage of total cancelations\n",
    "data_thumbsUp['weighted count'] = data_thumbsUp['count']/data_cancel_proportion['percentage']"
   ]
  },
  {
   "cell_type": "code",
   "execution_count": null,
   "metadata": {},
   "outputs": [],
   "source": []
  },
  {
   "cell_type": "code",
   "execution_count": 53,
   "metadata": {},
   "outputs": [],
   "source": [
    "data_thumbsUp['weighted percentage'] = data_thumbsUp['weighted count'] / data_thumbsUp['weighted count'].sum()"
   ]
  },
  {
   "cell_type": "code",
   "execution_count": 54,
   "metadata": {},
   "outputs": [
    {
     "data": {
      "text/html": [
       "<div>\n",
       "<style scoped>\n",
       "    .dataframe tbody tr th:only-of-type {\n",
       "        vertical-align: middle;\n",
       "    }\n",
       "\n",
       "    .dataframe tbody tr th {\n",
       "        vertical-align: top;\n",
       "    }\n",
       "\n",
       "    .dataframe thead th {\n",
       "        text-align: right;\n",
       "    }\n",
       "</style>\n",
       "<table border=\"1\" class=\"dataframe\">\n",
       "  <thead>\n",
       "    <tr style=\"text-align: right;\">\n",
       "      <th></th>\n",
       "      <th>ever_churn</th>\n",
       "      <th>count</th>\n",
       "      <th>weighted count</th>\n",
       "      <th>weighted percentage</th>\n",
       "    </tr>\n",
       "  </thead>\n",
       "  <tbody>\n",
       "    <tr>\n",
       "      <th>0</th>\n",
       "      <td>0</td>\n",
       "      <td>19526</td>\n",
       "      <td>25064.893983</td>\n",
       "      <td>0.562959</td>\n",
       "    </tr>\n",
       "    <tr>\n",
       "      <th>1</th>\n",
       "      <td>1</td>\n",
       "      <td>4300</td>\n",
       "      <td>19458.585859</td>\n",
       "      <td>0.437041</td>\n",
       "    </tr>\n",
       "  </tbody>\n",
       "</table>\n",
       "</div>"
      ],
      "text/plain": [
       "   ever_churn  count  weighted count  weighted percentage\n",
       "0           0  19526    25064.893983             0.562959\n",
       "1           1   4300    19458.585859             0.437041"
      ]
     },
     "execution_count": 54,
     "metadata": {},
     "output_type": "execute_result"
    }
   ],
   "source": [
    "data_thumbsUp"
   ]
  },
  {
   "cell_type": "code",
   "execution_count": 55,
   "metadata": {},
   "outputs": [
    {
     "data": {
      "image/png": "[encoded data removed]",
      "text/plain": [
       "<Figure size 432x288 with 1 Axes>"
      ]
     },
     "metadata": {
      "needs_background": "light"
     },
     "output_type": "display_data"
    }
   ],
   "source": [
    "sns.barplot(x='ever_churn', y='weighted percentage', data=data_thumbsUp);"
   ]
  },
  {
   "cell_type": "markdown",
   "metadata": {},
   "source": [
    "We can see that users who give up show less thumbs up. Let's do the same with thumbs down"
   ]
  },
  {
   "cell_type": "markdown",
   "metadata": {},
   "source": [
    "### Thumbs Down"
   ]
  },
  {
   "cell_type": "code",
   "execution_count": 56,
   "metadata": {},
   "outputs": [],
   "source": [
    "data_thumbsDown = data_time.where('page==\"Thumbs Down\"').groupby(['ever_churn']).count().toPandas()"
   ]
  },
  {
   "cell_type": "code",
   "execution_count": 57,
   "metadata": {},
   "outputs": [
    {
     "data": {
      "text/html": [
       "<div>\n",
       "<style scoped>\n",
       "    .dataframe tbody tr th:only-of-type {\n",
       "        vertical-align: middle;\n",
       "    }\n",
       "\n",
       "    .dataframe tbody tr th {\n",
       "        vertical-align: top;\n",
       "    }\n",
       "\n",
       "    .dataframe thead th {\n",
       "        text-align: right;\n",
       "    }\n",
       "</style>\n",
       "<table border=\"1\" class=\"dataframe\">\n",
       "  <thead>\n",
       "    <tr style=\"text-align: right;\">\n",
       "      <th></th>\n",
       "      <th>ever_churn</th>\n",
       "      <th>count</th>\n",
       "      <th>weighted count</th>\n",
       "      <th>weighted percentage</th>\n",
       "    </tr>\n",
       "  </thead>\n",
       "  <tbody>\n",
       "    <tr>\n",
       "      <th>0</th>\n",
       "      <td>0</td>\n",
       "      <td>3755</td>\n",
       "      <td>4820.171920</td>\n",
       "      <td>0.479554</td>\n",
       "    </tr>\n",
       "    <tr>\n",
       "      <th>1</th>\n",
       "      <td>1</td>\n",
       "      <td>1156</td>\n",
       "      <td>5231.191919</td>\n",
       "      <td>0.520446</td>\n",
       "    </tr>\n",
       "  </tbody>\n",
       "</table>\n",
       "</div>"
      ],
      "text/plain": [
       "   ever_churn  count  weighted count  weighted percentage\n",
       "0           0   3755     4820.171920             0.479554\n",
       "1           1   1156     5231.191919             0.520446"
      ]
     },
     "execution_count": 57,
     "metadata": {},
     "output_type": "execute_result"
    }
   ],
   "source": [
    "# We have to weigh the count with the percentage of total cancelations\n",
    "data_thumbsDown['weighted count'] = data_thumbsDown['count']/data_cancel_proportion['percentage']\n",
    "data_thumbsDown['weighted percentage'] = data_thumbsDown['weighted count'] / data_thumbsDown['weighted count'].sum()\n",
    "\n",
    "data_thumbsDown"
   ]
  },
  {
   "cell_type": "code",
   "execution_count": 58,
   "metadata": {},
   "outputs": [
    {
     "data": {
      "image/png": "[encoded data removed]",
      "text/plain": [
       "<Figure size 432x288 with 1 Axes>"
      ]
     },
     "metadata": {
      "needs_background": "light"
     },
     "output_type": "display_data"
    }
   ],
   "source": [
    "sns.barplot(x='ever_churn', y='weighted percentage', data=data_thumbsDown);"
   ]
  },
  {
   "cell_type": "markdown",
   "metadata": {},
   "source": [
    "we observe a light larger thumbs down in users who give up"
   ]
  },
  {
   "cell_type": "markdown",
   "metadata": {},
   "source": [
    "### Songs played"
   ]
  },
  {
   "cell_type": "code",
   "execution_count": 59,
   "metadata": {},
   "outputs": [],
   "source": [
    "data_songs_played = data_time.where('page==\"NextSong\"').groupby(['userId','ever_churn']).count().toPandas()"
   ]
  },
  {
   "cell_type": "code",
   "execution_count": 60,
   "metadata": {},
   "outputs": [],
   "source": [
    "data_songs_played = data_songs_played.sort_values('ever_churn')"
   ]
  },
  {
   "cell_type": "code",
   "execution_count": 61,
   "metadata": {},
   "outputs": [
    {
     "data": {
      "image/png": "[encoded data removed]",
      "text/plain": [
       "<Figure size 432x288 with 1 Axes>"
      ]
     },
     "metadata": {
      "needs_background": "light"
     },
     "output_type": "display_data"
    }
   ],
   "source": [
    "sns.scatterplot(x='userId', y='count', hue='ever_churn', data=data_songs_played);"
   ]
  },
  {
   "cell_type": "markdown",
   "metadata": {},
   "source": [
    "### Songs played per session on average"
   ]
  },
  {
   "cell_type": "code",
   "execution_count": 62,
   "metadata": {},
   "outputs": [],
   "source": [
    "songs_per_session = data_time.where('page == \"NextSong\"') \\\n",
    "                 .groupby(['ever_churn', 'userId', 'sessionId']).count()\\\n",
    "                 .groupby(['ever_churn', 'userId']).agg({'count':'avg'})\\\n",
    "                 .withColumnRenamed('avg(count)', 'songs_played_per_session(avg)')\\\n",
    "                 .toPandas()"
   ]
  },
  {
   "cell_type": "code",
   "execution_count": 63,
   "metadata": {},
   "outputs": [],
   "source": [
    "songs_per_session = songs_per_session.sort_values('ever_churn')"
   ]
  },
  {
   "cell_type": "code",
   "execution_count": 64,
   "metadata": {},
   "outputs": [
    {
     "data": {
      "text/html": [
       "<div>\n",
       "<style scoped>\n",
       "    .dataframe tbody tr th:only-of-type {\n",
       "        vertical-align: middle;\n",
       "    }\n",
       "\n",
       "    .dataframe tbody tr th {\n",
       "        vertical-align: top;\n",
       "    }\n",
       "\n",
       "    .dataframe thead th {\n",
       "        text-align: right;\n",
       "    }\n",
       "</style>\n",
       "<table border=\"1\" class=\"dataframe\">\n",
       "  <thead>\n",
       "    <tr style=\"text-align: right;\">\n",
       "      <th></th>\n",
       "      <th>ever_churn</th>\n",
       "      <th>userId</th>\n",
       "      <th>songs_played_per_session(avg)</th>\n",
       "    </tr>\n",
       "  </thead>\n",
       "  <tbody>\n",
       "    <tr>\n",
       "      <th>447</th>\n",
       "      <td>0</td>\n",
       "      <td>300029</td>\n",
       "      <td>51.142857</td>\n",
       "    </tr>\n",
       "    <tr>\n",
       "      <th>387</th>\n",
       "      <td>0</td>\n",
       "      <td>12</td>\n",
       "      <td>154.260870</td>\n",
       "    </tr>\n",
       "    <tr>\n",
       "      <th>243</th>\n",
       "      <td>0</td>\n",
       "      <td>283</td>\n",
       "      <td>124.535714</td>\n",
       "    </tr>\n",
       "    <tr>\n",
       "      <th>242</th>\n",
       "      <td>0</td>\n",
       "      <td>193</td>\n",
       "      <td>14.125000</td>\n",
       "    </tr>\n",
       "    <tr>\n",
       "      <th>241</th>\n",
       "      <td>0</td>\n",
       "      <td>82</td>\n",
       "      <td>61.631579</td>\n",
       "    </tr>\n",
       "    <tr>\n",
       "      <th>240</th>\n",
       "      <td>0</td>\n",
       "      <td>241</td>\n",
       "      <td>62.909091</td>\n",
       "    </tr>\n",
       "    <tr>\n",
       "      <th>239</th>\n",
       "      <td>0</td>\n",
       "      <td>115</td>\n",
       "      <td>6.000000</td>\n",
       "    </tr>\n",
       "    <tr>\n",
       "      <th>238</th>\n",
       "      <td>0</td>\n",
       "      <td>176</td>\n",
       "      <td>8.750000</td>\n",
       "    </tr>\n",
       "    <tr>\n",
       "      <th>237</th>\n",
       "      <td>0</td>\n",
       "      <td>144</td>\n",
       "      <td>26.166667</td>\n",
       "    </tr>\n",
       "    <tr>\n",
       "      <th>386</th>\n",
       "      <td>0</td>\n",
       "      <td>62</td>\n",
       "      <td>94.571429</td>\n",
       "    </tr>\n",
       "    <tr>\n",
       "      <th>388</th>\n",
       "      <td>0</td>\n",
       "      <td>83</td>\n",
       "      <td>60.521739</td>\n",
       "    </tr>\n",
       "    <tr>\n",
       "      <th>389</th>\n",
       "      <td>0</td>\n",
       "      <td>109</td>\n",
       "      <td>29.666667</td>\n",
       "    </tr>\n",
       "    <tr>\n",
       "      <th>233</th>\n",
       "      <td>0</td>\n",
       "      <td>190</td>\n",
       "      <td>130.500000</td>\n",
       "    </tr>\n",
       "    <tr>\n",
       "      <th>231</th>\n",
       "      <td>0</td>\n",
       "      <td>135</td>\n",
       "      <td>25.250000</td>\n",
       "    </tr>\n",
       "    <tr>\n",
       "      <th>230</th>\n",
       "      <td>0</td>\n",
       "      <td>300040</td>\n",
       "      <td>87.333333</td>\n",
       "    </tr>\n",
       "    <tr>\n",
       "      <th>229</th>\n",
       "      <td>0</td>\n",
       "      <td>297</td>\n",
       "      <td>19.000000</td>\n",
       "    </tr>\n",
       "    <tr>\n",
       "      <th>228</th>\n",
       "      <td>0</td>\n",
       "      <td>292</td>\n",
       "      <td>155.473684</td>\n",
       "    </tr>\n",
       "    <tr>\n",
       "      <th>227</th>\n",
       "      <td>0</td>\n",
       "      <td>233</td>\n",
       "      <td>141.857143</td>\n",
       "    </tr>\n",
       "    <tr>\n",
       "      <th>226</th>\n",
       "      <td>0</td>\n",
       "      <td>300030</td>\n",
       "      <td>68.250000</td>\n",
       "    </tr>\n",
       "    <tr>\n",
       "      <th>235</th>\n",
       "      <td>0</td>\n",
       "      <td>44</td>\n",
       "      <td>39.200000</td>\n",
       "    </tr>\n",
       "    <tr>\n",
       "      <th>391</th>\n",
       "      <td>0</td>\n",
       "      <td>215</td>\n",
       "      <td>128.714286</td>\n",
       "    </tr>\n",
       "    <tr>\n",
       "      <th>385</th>\n",
       "      <td>0</td>\n",
       "      <td>210</td>\n",
       "      <td>42.500000</td>\n",
       "    </tr>\n",
       "    <tr>\n",
       "      <th>248</th>\n",
       "      <td>0</td>\n",
       "      <td>53</td>\n",
       "      <td>122.200000</td>\n",
       "    </tr>\n",
       "    <tr>\n",
       "      <th>266</th>\n",
       "      <td>0</td>\n",
       "      <td>58</td>\n",
       "      <td>83.000000</td>\n",
       "    </tr>\n",
       "    <tr>\n",
       "      <th>265</th>\n",
       "      <td>0</td>\n",
       "      <td>281</td>\n",
       "      <td>114.357143</td>\n",
       "    </tr>\n",
       "    <tr>\n",
       "      <th>264</th>\n",
       "      <td>0</td>\n",
       "      <td>261</td>\n",
       "      <td>43.111111</td>\n",
       "    </tr>\n",
       "    <tr>\n",
       "      <th>263</th>\n",
       "      <td>0</td>\n",
       "      <td>86</td>\n",
       "      <td>97.647059</td>\n",
       "    </tr>\n",
       "    <tr>\n",
       "      <th>262</th>\n",
       "      <td>0</td>\n",
       "      <td>200017</td>\n",
       "      <td>66.500000</td>\n",
       "    </tr>\n",
       "    <tr>\n",
       "      <th>261</th>\n",
       "      <td>0</td>\n",
       "      <td>300010</td>\n",
       "      <td>102.200000</td>\n",
       "    </tr>\n",
       "    <tr>\n",
       "      <th>260</th>\n",
       "      <td>0</td>\n",
       "      <td>247</td>\n",
       "      <td>105.285714</td>\n",
       "    </tr>\n",
       "    <tr>\n",
       "      <th>...</th>\n",
       "      <td>...</td>\n",
       "      <td>...</td>\n",
       "      <td>...</td>\n",
       "    </tr>\n",
       "    <tr>\n",
       "      <th>317</th>\n",
       "      <td>1</td>\n",
       "      <td>236</td>\n",
       "      <td>116.500000</td>\n",
       "    </tr>\n",
       "    <tr>\n",
       "      <th>326</th>\n",
       "      <td>1</td>\n",
       "      <td>32</td>\n",
       "      <td>22.333333</td>\n",
       "    </tr>\n",
       "    <tr>\n",
       "      <th>332</th>\n",
       "      <td>1</td>\n",
       "      <td>88</td>\n",
       "      <td>141.071429</td>\n",
       "    </tr>\n",
       "    <tr>\n",
       "      <th>338</th>\n",
       "      <td>1</td>\n",
       "      <td>100032</td>\n",
       "      <td>7.000000</td>\n",
       "    </tr>\n",
       "    <tr>\n",
       "      <th>343</th>\n",
       "      <td>1</td>\n",
       "      <td>100023</td>\n",
       "      <td>71.000000</td>\n",
       "    </tr>\n",
       "    <tr>\n",
       "      <th>344</th>\n",
       "      <td>1</td>\n",
       "      <td>100013</td>\n",
       "      <td>20.000000</td>\n",
       "    </tr>\n",
       "    <tr>\n",
       "      <th>353</th>\n",
       "      <td>1</td>\n",
       "      <td>10</td>\n",
       "      <td>360.000000</td>\n",
       "    </tr>\n",
       "    <tr>\n",
       "      <th>251</th>\n",
       "      <td>1</td>\n",
       "      <td>231</td>\n",
       "      <td>202.000000</td>\n",
       "    </tr>\n",
       "    <tr>\n",
       "      <th>355</th>\n",
       "      <td>1</td>\n",
       "      <td>300047</td>\n",
       "      <td>76.285714</td>\n",
       "    </tr>\n",
       "    <tr>\n",
       "      <th>246</th>\n",
       "      <td>1</td>\n",
       "      <td>200023</td>\n",
       "      <td>38.706897</td>\n",
       "    </tr>\n",
       "    <tr>\n",
       "      <th>244</th>\n",
       "      <td>1</td>\n",
       "      <td>100038</td>\n",
       "      <td>62.875000</td>\n",
       "    </tr>\n",
       "    <tr>\n",
       "      <th>164</th>\n",
       "      <td>1</td>\n",
       "      <td>118</td>\n",
       "      <td>86.800000</td>\n",
       "    </tr>\n",
       "    <tr>\n",
       "      <th>170</th>\n",
       "      <td>1</td>\n",
       "      <td>100041</td>\n",
       "      <td>24.600000</td>\n",
       "    </tr>\n",
       "    <tr>\n",
       "      <th>172</th>\n",
       "      <td>1</td>\n",
       "      <td>200050</td>\n",
       "      <td>46.521739</td>\n",
       "    </tr>\n",
       "    <tr>\n",
       "      <th>179</th>\n",
       "      <td>1</td>\n",
       "      <td>100004</td>\n",
       "      <td>52.400000</td>\n",
       "    </tr>\n",
       "    <tr>\n",
       "      <th>182</th>\n",
       "      <td>1</td>\n",
       "      <td>246</td>\n",
       "      <td>130.391304</td>\n",
       "    </tr>\n",
       "    <tr>\n",
       "      <th>195</th>\n",
       "      <td>1</td>\n",
       "      <td>200024</td>\n",
       "      <td>87.272727</td>\n",
       "    </tr>\n",
       "    <tr>\n",
       "      <th>198</th>\n",
       "      <td>1</td>\n",
       "      <td>41</td>\n",
       "      <td>60.500000</td>\n",
       "    </tr>\n",
       "    <tr>\n",
       "      <th>199</th>\n",
       "      <td>1</td>\n",
       "      <td>100042</td>\n",
       "      <td>54.200000</td>\n",
       "    </tr>\n",
       "    <tr>\n",
       "      <th>203</th>\n",
       "      <td>1</td>\n",
       "      <td>200008</td>\n",
       "      <td>28.000000</td>\n",
       "    </tr>\n",
       "    <tr>\n",
       "      <th>209</th>\n",
       "      <td>1</td>\n",
       "      <td>100016</td>\n",
       "      <td>27.166667</td>\n",
       "    </tr>\n",
       "    <tr>\n",
       "      <th>210</th>\n",
       "      <td>1</td>\n",
       "      <td>100003</td>\n",
       "      <td>82.625000</td>\n",
       "    </tr>\n",
       "    <tr>\n",
       "      <th>211</th>\n",
       "      <td>1</td>\n",
       "      <td>167</td>\n",
       "      <td>24.875000</td>\n",
       "    </tr>\n",
       "    <tr>\n",
       "      <th>220</th>\n",
       "      <td>1</td>\n",
       "      <td>100036</td>\n",
       "      <td>23.000000</td>\n",
       "    </tr>\n",
       "    <tr>\n",
       "      <th>225</th>\n",
       "      <td>1</td>\n",
       "      <td>271</td>\n",
       "      <td>190.000000</td>\n",
       "    </tr>\n",
       "    <tr>\n",
       "      <th>232</th>\n",
       "      <td>1</td>\n",
       "      <td>156</td>\n",
       "      <td>24.000000</td>\n",
       "    </tr>\n",
       "    <tr>\n",
       "      <th>234</th>\n",
       "      <td>1</td>\n",
       "      <td>288</td>\n",
       "      <td>88.933333</td>\n",
       "    </tr>\n",
       "    <tr>\n",
       "      <th>236</th>\n",
       "      <td>1</td>\n",
       "      <td>100024</td>\n",
       "      <td>67.923077</td>\n",
       "    </tr>\n",
       "    <tr>\n",
       "      <th>245</th>\n",
       "      <td>1</td>\n",
       "      <td>100051</td>\n",
       "      <td>69.000000</td>\n",
       "    </tr>\n",
       "    <tr>\n",
       "      <th>223</th>\n",
       "      <td>1</td>\n",
       "      <td>189</td>\n",
       "      <td>92.777778</td>\n",
       "    </tr>\n",
       "  </tbody>\n",
       "</table>\n",
       "<p>448 rows × 3 columns</p>\n",
       "</div>"
      ],
      "text/plain": [
       "     ever_churn  userId  songs_played_per_session(avg)\n",
       "447           0  300029                      51.142857\n",
       "387           0      12                     154.260870\n",
       "243           0     283                     124.535714\n",
       "242           0     193                      14.125000\n",
       "241           0      82                      61.631579\n",
       "240           0     241                      62.909091\n",
       "239           0     115                       6.000000\n",
       "238           0     176                       8.750000\n",
       "237           0     144                      26.166667\n",
       "386           0      62                      94.571429\n",
       "388           0      83                      60.521739\n",
       "389           0     109                      29.666667\n",
       "233           0     190                     130.500000\n",
       "231           0     135                      25.250000\n",
       "230           0  300040                      87.333333\n",
       "229           0     297                      19.000000\n",
       "228           0     292                     155.473684\n",
       "227           0     233                     141.857143\n",
       "226           0  300030                      68.250000\n",
       "235           0      44                      39.200000\n",
       "391           0     215                     128.714286\n",
       "385           0     210                      42.500000\n",
       "248           0      53                     122.200000\n",
       "266           0      58                      83.000000\n",
       "265           0     281                     114.357143\n",
       "264           0     261                      43.111111\n",
       "263           0      86                      97.647059\n",
       "262           0  200017                      66.500000\n",
       "261           0  300010                     102.200000\n",
       "260           0     247                     105.285714\n",
       "..          ...     ...                            ...\n",
       "317           1     236                     116.500000\n",
       "326           1      32                      22.333333\n",
       "332           1      88                     141.071429\n",
       "338           1  100032                       7.000000\n",
       "343           1  100023                      71.000000\n",
       "344           1  100013                      20.000000\n",
       "353           1      10                     360.000000\n",
       "251           1     231                     202.000000\n",
       "355           1  300047                      76.285714\n",
       "246           1  200023                      38.706897\n",
       "244           1  100038                      62.875000\n",
       "164           1     118                      86.800000\n",
       "170           1  100041                      24.600000\n",
       "172           1  200050                      46.521739\n",
       "179           1  100004                      52.400000\n",
       "182           1     246                     130.391304\n",
       "195           1  200024                      87.272727\n",
       "198           1      41                      60.500000\n",
       "199           1  100042                      54.200000\n",
       "203           1  200008                      28.000000\n",
       "209           1  100016                      27.166667\n",
       "210           1  100003                      82.625000\n",
       "211           1     167                      24.875000\n",
       "220           1  100036                      23.000000\n",
       "225           1     271                     190.000000\n",
       "232           1     156                      24.000000\n",
       "234           1     288                      88.933333\n",
       "236           1  100024                      67.923077\n",
       "245           1  100051                      69.000000\n",
       "223           1     189                      92.777778\n",
       "\n",
       "[448 rows x 3 columns]"
      ]
     },
     "execution_count": 64,
     "metadata": {},
     "output_type": "execute_result"
    }
   ],
   "source": [
    "songs_per_session"
   ]
  },
  {
   "cell_type": "code",
   "execution_count": 65,
   "metadata": {},
   "outputs": [
    {
     "data": {
      "image/png": "[encoded data removed]",
      "text/plain": [
       "<Figure size 432x288 with 1 Axes>"
      ]
     },
     "metadata": {
      "needs_background": "light"
     },
     "output_type": "display_data"
    }
   ],
   "source": [
    "sns.scatterplot(x='userId', y='songs_played_per_session(avg)', hue='ever_churn', data=songs_per_session);"
   ]
  },
  {
   "cell_type": "markdown",
   "metadata": {},
   "source": [
    "### Subscription time "
   ]
  },
  {
   "cell_type": "code",
   "execution_count": 66,
   "metadata": {},
   "outputs": [],
   "source": [
    "subscription_time = data_time \\\n",
    "    .select('userId','registration','ts','ever_churn') \\\n",
    "    .withColumn('subscription_time',(data_time.ts-data_time.registration)) \\\n",
    "    .groupBy('userId','ever_churn') \\\n",
    "    .agg({'subscription_time':'max'}) \\\n",
    "    .withColumnRenamed('max(subscription_time)','subscription_time') \\\n",
    "    .select('userId', 'ever_churn', (col('subscription_time')/1000/3600/24).alias('subscription_time')) \\\n",
    "    .toPandas()"
   ]
  },
  {
   "cell_type": "code",
   "execution_count": 67,
   "metadata": {},
   "outputs": [],
   "source": [
    "subscription_time = subscription_time.sort_values('ever_churn')"
   ]
  },
  {
   "cell_type": "code",
   "execution_count": 68,
   "metadata": {},
   "outputs": [
    {
     "data": {
      "image/png": "[encoded data removed]",
      "text/plain": [
       "<Figure size 432x288 with 1 Axes>"
      ]
     },
     "metadata": {
      "needs_background": "light"
     },
     "output_type": "display_data"
    }
   ],
   "source": [
    "sns.scatterplot(x='userId', y='subscription_time', hue='ever_churn', data=subscription_time);"
   ]
  },
  {
   "cell_type": "markdown",
   "metadata": {},
   "source": [
    "### Number of songs added to playlist"
   ]
  },
  {
   "cell_type": "code",
   "execution_count": 69,
   "metadata": {},
   "outputs": [],
   "source": [
    "songs_added_playlist = data_time.where('page==\"Add to Playlist\"').groupby(['userId','ever_churn']).count().toPandas()"
   ]
  },
  {
   "cell_type": "code",
   "execution_count": 70,
   "metadata": {},
   "outputs": [],
   "source": [
    "songs_added_playlist = songs_added_playlist.sort_values('ever_churn')"
   ]
  },
  {
   "cell_type": "code",
   "execution_count": 71,
   "metadata": {},
   "outputs": [
    {
     "data": {
      "text/html": [
       "<div>\n",
       "<style scoped>\n",
       "    .dataframe tbody tr th:only-of-type {\n",
       "        vertical-align: middle;\n",
       "    }\n",
       "\n",
       "    .dataframe tbody tr th {\n",
       "        vertical-align: top;\n",
       "    }\n",
       "\n",
       "    .dataframe thead th {\n",
       "        text-align: right;\n",
       "    }\n",
       "</style>\n",
       "<table border=\"1\" class=\"dataframe\">\n",
       "  <thead>\n",
       "    <tr style=\"text-align: right;\">\n",
       "      <th></th>\n",
       "      <th>userId</th>\n",
       "      <th>ever_churn</th>\n",
       "      <th>count</th>\n",
       "    </tr>\n",
       "  </thead>\n",
       "  <tbody>\n",
       "    <tr>\n",
       "      <th>427</th>\n",
       "      <td>300029</td>\n",
       "      <td>0</td>\n",
       "      <td>13</td>\n",
       "    </tr>\n",
       "    <tr>\n",
       "      <th>368</th>\n",
       "      <td>62</td>\n",
       "      <td>0</td>\n",
       "      <td>20</td>\n",
       "    </tr>\n",
       "    <tr>\n",
       "      <th>232</th>\n",
       "      <td>283</td>\n",
       "      <td>0</td>\n",
       "      <td>108</td>\n",
       "    </tr>\n",
       "  </tbody>\n",
       "</table>\n",
       "</div>"
      ],
      "text/plain": [
       "     userId  ever_churn  count\n",
       "427  300029           0     13\n",
       "368      62           0     20\n",
       "232     283           0    108"
      ]
     },
     "execution_count": 71,
     "metadata": {},
     "output_type": "execute_result"
    }
   ],
   "source": [
    "songs_added_playlist.head(3)"
   ]
  },
  {
   "cell_type": "code",
   "execution_count": 72,
   "metadata": {},
   "outputs": [
    {
     "data": {
      "image/png": "[encoded data removed]",
      "text/plain": [
       "<Figure size 432x288 with 1 Axes>"
      ]
     },
     "metadata": {
      "needs_background": "light"
     },
     "output_type": "display_data"
    }
   ],
   "source": [
    "sns.scatterplot(x='userId', y='count', hue='ever_churn', data=songs_added_playlist);"
   ]
  },
  {
   "cell_type": "markdown",
   "metadata": {},
   "source": [
    "Number of songs added to playlist seems to be a good feature to predict the churn label"
   ]
  },
  {
   "cell_type": "markdown",
   "metadata": {},
   "source": [
    "### Add Friend page Analysis"
   ]
  },
  {
   "cell_type": "code",
   "execution_count": 73,
   "metadata": {},
   "outputs": [],
   "source": [
    "added_friends = data_time.where('page==\"Add Friend\"').groupby(['userId','ever_churn']).count().toPandas()"
   ]
  },
  {
   "cell_type": "code",
   "execution_count": 74,
   "metadata": {},
   "outputs": [
    {
     "data": {
      "text/html": [
       "<div>\n",
       "<style scoped>\n",
       "    .dataframe tbody tr th:only-of-type {\n",
       "        vertical-align: middle;\n",
       "    }\n",
       "\n",
       "    .dataframe tbody tr th {\n",
       "        vertical-align: top;\n",
       "    }\n",
       "\n",
       "    .dataframe thead th {\n",
       "        text-align: right;\n",
       "    }\n",
       "</style>\n",
       "<table border=\"1\" class=\"dataframe\">\n",
       "  <thead>\n",
       "    <tr style=\"text-align: right;\">\n",
       "      <th></th>\n",
       "      <th>userId</th>\n",
       "      <th>ever_churn</th>\n",
       "      <th>count</th>\n",
       "    </tr>\n",
       "  </thead>\n",
       "  <tbody>\n",
       "    <tr>\n",
       "      <th>0</th>\n",
       "      <td>100010</td>\n",
       "      <td>1</td>\n",
       "      <td>3</td>\n",
       "    </tr>\n",
       "    <tr>\n",
       "      <th>1</th>\n",
       "      <td>200002</td>\n",
       "      <td>1</td>\n",
       "      <td>2</td>\n",
       "    </tr>\n",
       "    <tr>\n",
       "      <th>2</th>\n",
       "      <td>296</td>\n",
       "      <td>1</td>\n",
       "      <td>2</td>\n",
       "    </tr>\n",
       "    <tr>\n",
       "      <th>3</th>\n",
       "      <td>125</td>\n",
       "      <td>0</td>\n",
       "      <td>3</td>\n",
       "    </tr>\n",
       "  </tbody>\n",
       "</table>\n",
       "</div>"
      ],
      "text/plain": [
       "   userId  ever_churn  count\n",
       "0  100010           1      3\n",
       "1  200002           1      2\n",
       "2     296           1      2\n",
       "3     125           0      3"
      ]
     },
     "execution_count": 74,
     "metadata": {},
     "output_type": "execute_result"
    }
   ],
   "source": [
    "added_friends.head(4)"
   ]
  },
  {
   "cell_type": "code",
   "execution_count": 75,
   "metadata": {},
   "outputs": [
    {
     "data": {
      "image/png": "[encoded data removed]",
      "text/plain": [
       "<Figure size 432x288 with 1 Axes>"
      ]
     },
     "metadata": {
      "needs_background": "light"
     },
     "output_type": "display_data"
    }
   ],
   "source": [
    "sns.lineplot(x='userId', y='count', hue='ever_churn', data=added_friends);"
   ]
  },
  {
   "cell_type": "markdown",
   "metadata": {},
   "source": [
    "It seems there is a trend where users that don't give up add more friends"
   ]
  },
  {
   "cell_type": "markdown",
   "metadata": {},
   "source": [
    "### Help page Analysis"
   ]
  },
  {
   "cell_type": "code",
   "execution_count": 76,
   "metadata": {},
   "outputs": [],
   "source": [
    "help_page = data_time.where('page==\"Help\"').groupby(['userId','ever_churn']).count().toPandas()"
   ]
  },
  {
   "cell_type": "code",
   "execution_count": 77,
   "metadata": {},
   "outputs": [
    {
     "data": {
      "text/html": [
       "<div>\n",
       "<style scoped>\n",
       "    .dataframe tbody tr th:only-of-type {\n",
       "        vertical-align: middle;\n",
       "    }\n",
       "\n",
       "    .dataframe tbody tr th {\n",
       "        vertical-align: top;\n",
       "    }\n",
       "\n",
       "    .dataframe thead th {\n",
       "        text-align: right;\n",
       "    }\n",
       "</style>\n",
       "<table border=\"1\" class=\"dataframe\">\n",
       "  <thead>\n",
       "    <tr style=\"text-align: right;\">\n",
       "      <th></th>\n",
       "      <th>userId</th>\n",
       "      <th>ever_churn</th>\n",
       "      <th>count</th>\n",
       "    </tr>\n",
       "  </thead>\n",
       "  <tbody>\n",
       "    <tr>\n",
       "      <th>0</th>\n",
       "      <td>200002</td>\n",
       "      <td>1</td>\n",
       "      <td>1</td>\n",
       "    </tr>\n",
       "    <tr>\n",
       "      <th>1</th>\n",
       "      <td>296</td>\n",
       "      <td>1</td>\n",
       "      <td>2</td>\n",
       "    </tr>\n",
       "    <tr>\n",
       "      <th>2</th>\n",
       "      <td>125</td>\n",
       "      <td>0</td>\n",
       "      <td>2</td>\n",
       "    </tr>\n",
       "  </tbody>\n",
       "</table>\n",
       "</div>"
      ],
      "text/plain": [
       "   userId  ever_churn  count\n",
       "0  200002           1      1\n",
       "1     296           1      2\n",
       "2     125           0      2"
      ]
     },
     "execution_count": 77,
     "metadata": {},
     "output_type": "execute_result"
    }
   ],
   "source": [
    "help_page.head(3)"
   ]
  },
  {
   "cell_type": "code",
   "execution_count": 78,
   "metadata": {},
   "outputs": [],
   "source": [
    "help_page = help_page.sort_values('ever_churn')"
   ]
  },
  {
   "cell_type": "code",
   "execution_count": 79,
   "metadata": {},
   "outputs": [
    {
     "data": {
      "image/png": "[encoded data removed]",
      "text/plain": [
       "<Figure size 432x288 with 1 Axes>"
      ]
     },
     "metadata": {
      "needs_background": "light"
     },
     "output_type": "display_data"
    }
   ],
   "source": [
    "sns.scatterplot(x='userId', y='count', hue='ever_churn', data=help_page);"
   ]
  },
  {
   "cell_type": "markdown",
   "metadata": {},
   "source": [
    "### Roll Advert page Analysis"
   ]
  },
  {
   "cell_type": "code",
   "execution_count": 80,
   "metadata": {},
   "outputs": [],
   "source": [
    "roll_advert_page = data_time.where('page==\"Roll Advert\"').groupby(['userId','ever_churn']).count().toPandas()"
   ]
  },
  {
   "cell_type": "code",
   "execution_count": 81,
   "metadata": {},
   "outputs": [
    {
     "data": {
      "text/html": [
       "<div>\n",
       "<style scoped>\n",
       "    .dataframe tbody tr th:only-of-type {\n",
       "        vertical-align: middle;\n",
       "    }\n",
       "\n",
       "    .dataframe tbody tr th {\n",
       "        vertical-align: top;\n",
       "    }\n",
       "\n",
       "    .dataframe thead th {\n",
       "        text-align: right;\n",
       "    }\n",
       "</style>\n",
       "<table border=\"1\" class=\"dataframe\">\n",
       "  <thead>\n",
       "    <tr style=\"text-align: right;\">\n",
       "      <th></th>\n",
       "      <th>userId</th>\n",
       "      <th>ever_churn</th>\n",
       "      <th>count</th>\n",
       "    </tr>\n",
       "  </thead>\n",
       "  <tbody>\n",
       "    <tr>\n",
       "      <th>0</th>\n",
       "      <td>100010</td>\n",
       "      <td>1</td>\n",
       "      <td>22</td>\n",
       "    </tr>\n",
       "    <tr>\n",
       "      <th>1</th>\n",
       "      <td>200002</td>\n",
       "      <td>1</td>\n",
       "      <td>11</td>\n",
       "    </tr>\n",
       "    <tr>\n",
       "      <th>2</th>\n",
       "      <td>296</td>\n",
       "      <td>1</td>\n",
       "      <td>9</td>\n",
       "    </tr>\n",
       "    <tr>\n",
       "      <th>3</th>\n",
       "      <td>125</td>\n",
       "      <td>0</td>\n",
       "      <td>6</td>\n",
       "    </tr>\n",
       "  </tbody>\n",
       "</table>\n",
       "</div>"
      ],
      "text/plain": [
       "   userId  ever_churn  count\n",
       "0  100010           1     22\n",
       "1  200002           1     11\n",
       "2     296           1      9\n",
       "3     125           0      6"
      ]
     },
     "execution_count": 81,
     "metadata": {},
     "output_type": "execute_result"
    }
   ],
   "source": [
    "roll_advert_page.head(4)"
   ]
  },
  {
   "cell_type": "code",
   "execution_count": 82,
   "metadata": {},
   "outputs": [],
   "source": [
    "roll_advert_page = roll_advert_page.sort_values('ever_churn')"
   ]
  },
  {
   "cell_type": "code",
   "execution_count": 83,
   "metadata": {},
   "outputs": [
    {
     "data": {
      "image/png": "[encoded data removed]",
      "text/plain": [
       "<Figure size 432x288 with 1 Axes>"
      ]
     },
     "metadata": {
      "needs_background": "light"
     },
     "output_type": "display_data"
    }
   ],
   "source": [
    "sns.scatterplot(x='userId', y='count', hue='ever_churn', data=roll_advert_page);"
   ]
  },
  {
   "cell_type": "markdown",
   "metadata": {},
   "source": [
    "### Upgrade page Analysis"
   ]
  },
  {
   "cell_type": "code",
   "execution_count": 84,
   "metadata": {},
   "outputs": [],
   "source": [
    "upgrade_page = data_time.where('page==\"Upgrade\"').groupby(['userId','ever_churn']).count().toPandas()"
   ]
  },
  {
   "cell_type": "code",
   "execution_count": 85,
   "metadata": {},
   "outputs": [],
   "source": [
    "upgrade_page = upgrade_page.sort_values('ever_churn')"
   ]
  },
  {
   "cell_type": "code",
   "execution_count": 86,
   "metadata": {},
   "outputs": [
    {
     "data": {
      "image/png": "[encoded data removed]",
      "text/plain": [
       "<Figure size 432x288 with 1 Axes>"
      ]
     },
     "metadata": {
      "needs_background": "light"
     },
     "output_type": "display_data"
    }
   ],
   "source": [
    "sns.scatterplot(x='userId', y='count', hue='ever_churn', data=upgrade_page);"
   ]
  },
  {
   "cell_type": "markdown",
   "metadata": {},
   "source": [
    "# --------------------    Feature Engineering       ----------------------------------------\n",
    "\n",
    "According to the Data Analysis I'm going to select the below features"
   ]
  },
  {
   "cell_type": "markdown",
   "metadata": {},
   "source": [
    "### Feature 1: Level"
   ]
  },
  {
   "cell_type": "code",
   "execution_count": 87,
   "metadata": {},
   "outputs": [],
   "source": [
    "feature_level = data_time.select('userId', 'level').dropDuplicates() \\\n",
    "                .replace(['free','paid'], ['0','1'], 'level') \\\n",
    "                .select('userId', col('level').cast('int'))"
   ]
  },
  {
   "cell_type": "code",
   "execution_count": 88,
   "metadata": {},
   "outputs": [
    {
     "name": "stdout",
     "output_type": "stream",
     "text": [
      "+------+-----+\n",
      "|userId|level|\n",
      "+------+-----+\n",
      "|    94|    1|\n",
      "|100021|    0|\n",
      "|100029|    0|\n",
      "+------+-----+\n",
      "only showing top 3 rows\n",
      "\n"
     ]
    }
   ],
   "source": [
    "feature_level.show(3)"
   ]
  },
  {
   "cell_type": "markdown",
   "metadata": {},
   "source": [
    "### Feature 2: Number of thumbs up"
   ]
  },
  {
   "cell_type": "code",
   "execution_count": 89,
   "metadata": {},
   "outputs": [],
   "source": [
    "feature_thumbs_up = data_time.select('userId','page') \\\n",
    "                   .where(data_time.page == 'Thumbs Up') \\\n",
    "                   .groupBy('userID') \\\n",
    "                   .count() \\\n",
    "                   .withColumnRenamed('count', 'thumbs_up') "
   ]
  },
  {
   "cell_type": "code",
   "execution_count": 90,
   "metadata": {},
   "outputs": [
    {
     "name": "stdout",
     "output_type": "stream",
     "text": [
      "+------+---------+\n",
      "|userID|thumbs_up|\n",
      "+------+---------+\n",
      "|   296|        8|\n",
      "|100010|        4|\n",
      "|200002|       15|\n",
      "+------+---------+\n",
      "only showing top 3 rows\n",
      "\n"
     ]
    }
   ],
   "source": [
    "feature_thumbs_up.show(3)"
   ]
  },
  {
   "cell_type": "markdown",
   "metadata": {},
   "source": [
    "### Feature 3: Number of thumbs down"
   ]
  },
  {
   "cell_type": "code",
   "execution_count": 91,
   "metadata": {},
   "outputs": [],
   "source": [
    "feature_thumbs_down = data_time.select('userId','page') \\\n",
    "                     .where(data_time.page == 'Thumbs Down') \\\n",
    "                     .groupby('userId') \\\n",
    "                     .count() \\\n",
    "                     .withColumnRenamed('count', 'thumbs_down') "
   ]
  },
  {
   "cell_type": "markdown",
   "metadata": {},
   "source": [
    "### Feature 4: Songs played per session"
   ]
  },
  {
   "cell_type": "code",
   "execution_count": 92,
   "metadata": {},
   "outputs": [
    {
     "name": "stdout",
     "output_type": "stream",
     "text": [
      "+------+-------------+\n",
      "|userId|songs_session|\n",
      "+------+-------------+\n",
      "|200002|         62.0|\n",
      "|   296|         22.4|\n",
      "|100010|         48.0|\n",
      "+------+-------------+\n",
      "only showing top 3 rows\n",
      "\n"
     ]
    }
   ],
   "source": [
    "feature_songs =  data_time.where('page == \"NextSong\"') \\\n",
    "                 .groupby('userId', 'sessionId').count()\\\n",
    "                 .groupby('userId').agg({'count':'avg'})\\\n",
    "                 .withColumnRenamed('avg(count)', 'songs_session')\n",
    "\n",
    "feature_songs.show(3)"
   ]
  },
  {
   "cell_type": "markdown",
   "metadata": {},
   "source": [
    "### Feature 5: Subscription time"
   ]
  },
  {
   "cell_type": "code",
   "execution_count": 93,
   "metadata": {},
   "outputs": [
    {
     "name": "stdout",
     "output_type": "stream",
     "text": [
      "+------+------------------+\n",
      "|userId| subscription_time|\n",
      "+------+------------------+\n",
      "|100010|14.328449074074074|\n",
      "|200002| 53.32314814814814|\n",
      "|   296| 26.63826388888889|\n",
      "+------+------------------+\n",
      "only showing top 3 rows\n",
      "\n"
     ]
    }
   ],
   "source": [
    "feature_subscription_time = data_time \\\n",
    "    .select('userId','registration','ts') \\\n",
    "    .withColumn('subscription_time',(data_time.ts-data_time.registration)) \\\n",
    "    .groupBy('userId') \\\n",
    "    .agg({'subscription_time':'max'}) \\\n",
    "    .withColumnRenamed('max(subscription_time)','subscription_time') \\\n",
    "    .select('userId',(col('subscription_time')/1000/3600/24).alias('subscription_time'))\n",
    "\n",
    "feature_subscription_time.show(3)"
   ]
  },
  {
   "cell_type": "markdown",
   "metadata": {},
   "source": [
    "### Feature 6: Number of songs added to playlist"
   ]
  },
  {
   "cell_type": "code",
   "execution_count": 94,
   "metadata": {},
   "outputs": [
    {
     "name": "stdout",
     "output_type": "stream",
     "text": [
      "+------+--------------+\n",
      "|userId|added_playlist|\n",
      "+------+--------------+\n",
      "|100010|             1|\n",
      "|200002|             6|\n",
      "|   296|             3|\n",
      "+------+--------------+\n",
      "only showing top 3 rows\n",
      "\n"
     ]
    }
   ],
   "source": [
    "feature_added_playlist = data_time.where('page==\"Add to Playlist\"').groupby('userId').count() \\\n",
    "                         .withColumnRenamed('count','added_playlist')\n",
    "\n",
    "feature_added_playlist.show(3)"
   ]
  },
  {
   "cell_type": "markdown",
   "metadata": {},
   "source": [
    "### Feature 7: Number of Add Friends events"
   ]
  },
  {
   "cell_type": "code",
   "execution_count": 95,
   "metadata": {},
   "outputs": [
    {
     "name": "stdout",
     "output_type": "stream",
     "text": [
      "+------+-------------+\n",
      "|userId|added_friends|\n",
      "+------+-------------+\n",
      "|100010|            3|\n",
      "|200002|            2|\n",
      "|   296|            2|\n",
      "+------+-------------+\n",
      "only showing top 3 rows\n",
      "\n"
     ]
    }
   ],
   "source": [
    "feature_added_friends = data_time.where('page==\"Add Friend\"').groupby('userId').count() \\\n",
    "                        .withColumnRenamed('count', 'added_friends')\n",
    "feature_added_friends.show(3)"
   ]
  },
  {
   "cell_type": "markdown",
   "metadata": {},
   "source": [
    "### Feature 8: Number of Help page events"
   ]
  },
  {
   "cell_type": "code",
   "execution_count": 96,
   "metadata": {},
   "outputs": [
    {
     "name": "stdout",
     "output_type": "stream",
     "text": [
      "+------+----+\n",
      "|userId|help|\n",
      "+------+----+\n",
      "|   296|   2|\n",
      "|200002|   1|\n",
      "|   125|   2|\n",
      "+------+----+\n",
      "only showing top 3 rows\n",
      "\n"
     ]
    }
   ],
   "source": [
    "feature_help = data_time.where('page==\"Help\"') \\\n",
    "              .groupby('userId').count() \\\n",
    "              .withColumnRenamed('count','help')\n",
    "feature_help.show(3)"
   ]
  },
  {
   "cell_type": "markdown",
   "metadata": {},
   "source": [
    "### Feature 9: Roll Advert page analysis"
   ]
  },
  {
   "cell_type": "code",
   "execution_count": 97,
   "metadata": {},
   "outputs": [
    {
     "name": "stdout",
     "output_type": "stream",
     "text": [
      "+------+------+\n",
      "|userId|advert|\n",
      "+------+------+\n",
      "|100010|    22|\n",
      "|200002|    11|\n",
      "|   296|     9|\n",
      "+------+------+\n",
      "only showing top 3 rows\n",
      "\n"
     ]
    }
   ],
   "source": [
    "feature_advert = data_time.where('page==\"Roll Advert\"') \\\n",
    "              .groupby('userId').count() \\\n",
    "              .withColumnRenamed('count','advert')\n",
    "feature_advert.show(3)"
   ]
  },
  {
   "cell_type": "markdown",
   "metadata": {},
   "source": [
    "### Include in the data the column label"
   ]
  },
  {
   "cell_type": "code",
   "execution_count": 98,
   "metadata": {},
   "outputs": [
    {
     "name": "stdout",
     "output_type": "stream",
     "text": [
      "+------+-----+\n",
      "|userId|label|\n",
      "+------+-----+\n",
      "|100010|    1|\n",
      "|200002|    1|\n",
      "|   296|    1|\n",
      "+------+-----+\n",
      "only showing top 3 rows\n",
      "\n"
     ]
    }
   ],
   "source": [
    "label = data_time.select('userId', col('ever_churn').alias('label')) \\\n",
    "       .dropDuplicates()\n",
    "label.show(3)"
   ]
  },
  {
   "cell_type": "markdown",
   "metadata": {},
   "source": [
    "### Finally we join all the features with the label, drop userId and fill na with 0"
   ]
  },
  {
   "cell_type": "code",
   "execution_count": 99,
   "metadata": {},
   "outputs": [],
   "source": [
    "data = feature_level.join(feature_thumbs_up, 'userId', 'outer') \\\n",
    "                    .join(feature_thumbs_down, 'userId', 'outer') \\\n",
    "                    .join(feature_songs,'userId', 'outer') \\\n",
    "                    .join(feature_subscription_time,'userId', 'outer') \\\n",
    "                    .join(feature_added_playlist,'userId', 'outer')  \\\n",
    "                    .join(feature_added_friends,'userId', 'outer') \\\n",
    "                    .join(feature_help,'userId', 'outer') \\\n",
    "                    .join(feature_advert,'userId', 'outer') \\\n",
    "                    .join(label,'userId', 'outer') \\\n",
    "                    .drop('userId')  \\\n",
    "                    .fillna(0)"
   ]
  },
  {
   "cell_type": "code",
   "execution_count": 100,
   "metadata": {},
   "outputs": [
    {
     "name": "stdout",
     "output_type": "stream",
     "text": [
      "+-----+---------+-----------+------------------+------------------+--------------+-------------+----+------+-----+\n",
      "|level|thumbs_up|thumbs_down|     songs_session| subscription_time|added_playlist|added_friends|help|advert|label|\n",
      "+-----+---------+-----------+------------------+------------------+--------------+-------------+----+------+-----+\n",
      "|    0|        4|          3|              48.0|14.328449074074074|             1|            3|   0|    22|    1|\n",
      "|    1|       15|          5|              62.0| 53.32314814814814|             6|            2|   1|    11|    1|\n",
      "|    0|       15|          5|              62.0| 53.32314814814814|             6|            2|   1|    11|    1|\n",
      "|    1|        8|          0|              22.4| 26.63826388888889|             3|            2|   2|     9|    1|\n",
      "|    0|        8|          0|              22.4| 26.63826388888889|             3|            2|   2|     9|    1|\n",
      "|    0|        3|          1|20.666666666666668|105.42211805555554|             2|            3|   2|     6|    0|\n",
      "|    1|      102|         15|           114.125| 112.5537962962963|            45|           26|  10|     1|    1|\n",
      "|    1|       16|          1|              53.2| 18.84582175925926|             8|            3|   0|     1|    1|\n",
      "|    0|       12|          4|              30.8| 78.02979166666667|             6|           16|   3|    35|    0|\n",
      "|    0|        5|          3|17.428571428571427| 42.55398148148148|             4|            2|   0|     9|    1|\n",
      "|    0|        6|          0|              14.0| 78.84166666666667|             0|            6|   0|    13|    0|\n",
      "|    1|       50|         10|             209.6|52.055104166666666|            25|           21|  11|     0|    0|\n",
      "|    0|        7|          4|              48.5|28.446817129629633|             3|            0|   0|    12|    0|\n",
      "|    1|       93|         16|101.94444444444444| 56.73247685185185|            57|           32|  12|     0|    0|\n",
      "|    0|       97|         17| 81.56521739130434|107.00724537037037|            61|           43|  21|    38|    0|\n",
      "|    1|       97|         17| 81.56521739130434|107.00724537037037|            61|           43|  21|    38|    0|\n",
      "|    0|       91|         22| 72.78260869565217| 36.27628472222222|            51|           17|   7|    30|    1|\n",
      "|    1|       91|         22| 72.78260869565217| 36.27628472222222|            51|           17|   7|    30|    1|\n",
      "|    0|      133|         29| 93.89285714285714| 77.69438657407407|            66|           79|  19|    37|    0|\n",
      "|    1|      133|         29| 93.89285714285714| 77.69438657407407|            66|           79|  19|    37|    0|\n",
      "+-----+---------+-----------+------------------+------------------+--------------+-------------+----+------+-----+\n",
      "only showing top 20 rows\n",
      "\n"
     ]
    }
   ],
   "source": [
    "data.show()"
   ]
  },
  {
   "cell_type": "code",
   "execution_count": 101,
   "metadata": {},
   "outputs": [
    {
     "data": {
      "text/plain": [
       "['level',\n",
       " 'thumbs_up',\n",
       " 'thumbs_down',\n",
       " 'songs_session',\n",
       " 'subscription_time',\n",
       " 'added_playlist',\n",
       " 'added_friends',\n",
       " 'help',\n",
       " 'advert']"
      ]
     },
     "execution_count": 101,
     "metadata": {},
     "output_type": "execute_result"
    }
   ],
   "source": [
    "data.columns[:-1]"
   ]
  },
  {
   "cell_type": "markdown",
   "metadata": {},
   "source": [
    "# Modeling\n",
    "\n",
    "Source: http://spark.apache.org/docs/latest/api/python/pyspark.ml.html#module-pyspark.ml.classification"
   ]
  },
  {
   "cell_type": "code",
   "execution_count": 102,
   "metadata": {},
   "outputs": [],
   "source": [
    "# Vector Assembler\n",
    "assembler = VectorAssembler(inputCols= data.columns[:-1], outputCol='features')\n",
    "features_vector = assembler.transform(data)"
   ]
  },
  {
   "cell_type": "code",
   "execution_count": 103,
   "metadata": {},
   "outputs": [],
   "source": [
    "# Data Standarization:\n",
    "scaler = StandardScaler(inputCol='features', outputCol='features_scaled', withStd=True)\n",
    "scaler_fit = scaler.fit(features_vector)\n",
    "scaled_data = scaler_fit.transform(features_vector)"
   ]
  },
  {
   "cell_type": "code",
   "execution_count": 104,
   "metadata": {},
   "outputs": [],
   "source": [
    "# train, test and validation data split\n",
    "train_data, rest = scaled_data.randomSplit([0.8, 0.2], seed=42)                                \n",
    "validation_data, test_data = rest.randomSplit([0.5, 0.5], seed=42)"
   ]
  },
  {
   "cell_type": "markdown",
   "metadata": {},
   "source": [
    "### Model 1: Logistic Regression"
   ]
  },
  {
   "cell_type": "code",
   "execution_count": 105,
   "metadata": {},
   "outputs": [],
   "source": [
    "# instantiate a LogisticRegression object\n",
    "lr = LogisticRegression(labelCol='label', featuresCol='features_scaled')\n",
    "# Fitting the model to the train_data\n",
    "lr_model = lr.fit(train_data)\n",
    "# Prediction\n",
    "lr_prediction = lr_model.transform(validation_data)"
   ]
  },
  {
   "cell_type": "code",
   "execution_count": 106,
   "metadata": {},
   "outputs": [
    {
     "name": "stdout",
     "output_type": "stream",
     "text": [
      "+-----+--------------------+--------------------+--------------------+----------+\n",
      "|label|     features_scaled|       rawPrediction|         probability|prediction|\n",
      "+-----+--------------------+--------------------+--------------------+----------+\n",
      "|    1|[2.00359616069337...|[0.77491390034122...|[0.68458290919279...|       0.0|\n",
      "|    1|[2.00359616069337...|[1.37047444638144...|[0.79745679670439...|       0.0|\n",
      "|    0|[2.00359616069337...|[0.76124294521869...|[0.68162352979850...|       0.0|\n",
      "+-----+--------------------+--------------------+--------------------+----------+\n",
      "only showing top 3 rows\n",
      "\n"
     ]
    }
   ],
   "source": [
    "lr_prediction.select('label', 'features_scaled', 'rawPrediction', 'probability', 'prediction').show(3)"
   ]
  },
  {
   "cell_type": "code",
   "execution_count": 107,
   "metadata": {},
   "outputs": [],
   "source": [
    "# Set the evaluator to F1 score and Accuracy. We will use this in all the below models\n",
    "f1_evaluator = MulticlassClassificationEvaluator(labelCol='label', predictionCol='prediction', metricName='f1')\n",
    "accuracy_evaluator = MulticlassClassificationEvaluator(labelCol='label', predictionCol='prediction', metricName='accuracy')"
   ]
  },
  {
   "cell_type": "code",
   "execution_count": 108,
   "metadata": {},
   "outputs": [],
   "source": [
    "lr_f1 = f1_evaluator.evaluate(lr_prediction)\n",
    "lr_accuracy = accuracy_evaluator.evaluate(lr_prediction)"
   ]
  },
  {
   "cell_type": "code",
   "execution_count": 109,
   "metadata": {},
   "outputs": [
    {
     "name": "stdout",
     "output_type": "stream",
     "text": [
      "____________________________\n",
      "Model 1: Logistic Regression\n",
      "____________________________\n",
      "F1 score: 0.6828312218383141\n",
      "____________________________\n",
      "Accuracy: 0.7659574468085106\n",
      "____________________________\n"
     ]
    }
   ],
   "source": [
    "print('____________________________')\n",
    "print('Model 1: Logistic Regression')\n",
    "print('____________________________')\n",
    "print('F1 score: {}'.format(lr_f1))\n",
    "print('____________________________')\n",
    "print('Accuracy: {}'.format(lr_accuracy))\n",
    "print('____________________________')"
   ]
  },
  {
   "cell_type": "markdown",
   "metadata": {},
   "source": [
    "### Model 2: Decision Tree Classifier"
   ]
  },
  {
   "cell_type": "code",
   "execution_count": 110,
   "metadata": {},
   "outputs": [],
   "source": [
    "# instantiate a DecisionTreeClassifier object\n",
    "dt = DecisionTreeClassifier(labelCol='label', featuresCol='features_scaled')\n",
    "# Fitting the model to the train_data\n",
    "dt_model = dt.fit(train_data)\n",
    "# Prediction\n",
    "dt_prediction = dt_model.transform(validation_data)"
   ]
  },
  {
   "cell_type": "code",
   "execution_count": 111,
   "metadata": {},
   "outputs": [],
   "source": [
    "dt_f1 = f1_evaluator.evaluate(dt_prediction)\n",
    "dt_accuracy = accuracy_evaluator.evaluate(dt_prediction)"
   ]
  },
  {
   "cell_type": "code",
   "execution_count": 114,
   "metadata": {},
   "outputs": [
    {
     "name": "stdout",
     "output_type": "stream",
     "text": [
      "________________________________\n",
      "Model 2: Desion Tree Classifier\n",
      "________________________________\n",
      "F1 score: 0.8173663024726855\n",
      "________________________________\n",
      "Accuracy: 0.8297872340425532\n",
      "________________________________\n"
     ]
    }
   ],
   "source": [
    "print('________________________________')\n",
    "print('Model 2: Desion Tree Classifier')\n",
    "print('________________________________')\n",
    "print('F1 score: {}'.format(dt_f1))\n",
    "print('________________________________')\n",
    "print('Accuracy: {}'.format(dt_accuracy))\n",
    "print('________________________________')"
   ]
  },
  {
   "cell_type": "markdown",
   "metadata": {},
   "source": [
    "### Model 3: LinearSVC"
   ]
  },
  {
   "cell_type": "code",
   "execution_count": 115,
   "metadata": {},
   "outputs": [],
   "source": [
    "# instantiate a LinearSVC object\n",
    "SVC = LinearSVC(labelCol='label', featuresCol='features_scaled')\n",
    "# Fitting the model to the train_data\n",
    "SVC_model = SVC.fit(train_data)\n",
    "# Prediction\n",
    "SVC_prediction = SVC_model.transform(validation_data)"
   ]
  },
  {
   "cell_type": "code",
   "execution_count": 116,
   "metadata": {},
   "outputs": [],
   "source": [
    "SVC_f1 = f1_evaluator.evaluate(SVC_prediction)\n",
    "SVC_accuracy = accuracy_evaluator.evaluate(SVC_prediction)"
   ]
  },
  {
   "cell_type": "code",
   "execution_count": 119,
   "metadata": {},
   "outputs": [
    {
     "name": "stdout",
     "output_type": "stream",
     "text": [
      "________________________________\n",
      "Model 3: LinearSVC\n",
      "________________________________\n",
      "F1 score: 0.6357031655422937\n",
      "________________________________\n",
      "Accuracy: 0.7446808510638298\n",
      "________________________________\n"
     ]
    }
   ],
   "source": [
    "print('________________________________')\n",
    "print('Model 3: LinearSVC')\n",
    "print('________________________________')\n",
    "print('F1 score: {}'.format(SVC_f1))\n",
    "print('________________________________')\n",
    "print('Accuracy: {}'.format(SVC_accuracy))\n",
    "print('________________________________')"
   ]
  },
  {
   "cell_type": "markdown",
   "metadata": {},
   "source": [
    "Note: LinearSVC model takes a long long time to train and evaluate so I discard this model"
   ]
  },
  {
   "cell_type": "markdown",
   "metadata": {},
   "source": [
    "### Model 4: Gradient-Boosted Trees (GBTClassifier)"
   ]
  },
  {
   "cell_type": "code",
   "execution_count": 120,
   "metadata": {},
   "outputs": [],
   "source": [
    "# instantiate a GBTClassifier object\n",
    "GBT = GBTClassifier(labelCol='label', featuresCol='features_scaled')\n",
    "# Fitting the model to the train_data\n",
    "GBT_model = GBT.fit(train_data)\n",
    "# Prediction\n",
    "GBT_prediction = GBT_model.transform(validation_data)"
   ]
  },
  {
   "cell_type": "code",
   "execution_count": 121,
   "metadata": {},
   "outputs": [],
   "source": [
    "GBT_f1 = f1_evaluator.evaluate(GBT_prediction)\n",
    "GBT_accuracy = accuracy_evaluator.evaluate(GBT_prediction)"
   ]
  },
  {
   "cell_type": "code",
   "execution_count": 122,
   "metadata": {},
   "outputs": [
    {
     "name": "stdout",
     "output_type": "stream",
     "text": [
      "________________________________\n",
      "Model 4: Gradient-Boosted Trees\n",
      "________________________________\n",
      "F1 score: 0.9086831512363429\n",
      "________________________________\n",
      "Accuracy: 0.9148936170212766\n",
      "________________________________\n"
     ]
    }
   ],
   "source": [
    "print('________________________________')\n",
    "print('Model 4: Gradient-Boosted Trees')\n",
    "print('________________________________')\n",
    "print('F1 score: {}'.format(GBT_f1))\n",
    "print('________________________________')\n",
    "print('Accuracy: {}'.format(GBT_accuracy))\n",
    "print('________________________________')"
   ]
  },
  {
   "cell_type": "markdown",
   "metadata": {},
   "source": [
    "### Model 5: RandomForestClassifier"
   ]
  },
  {
   "cell_type": "code",
   "execution_count": 123,
   "metadata": {},
   "outputs": [],
   "source": [
    "# instantiate a RandomForestClassifier object\n",
    "Ramdom_Forest = RandomForestClassifier(labelCol='label', featuresCol='features_scaled')\n",
    "# Fitting the model to the train_data\n",
    "Ramdom_Forest_model = Ramdom_Forest.fit(train_data)\n",
    "# Prediction\n",
    "Ramdom_Forest_prediction = Ramdom_Forest_model.transform(validation_data)"
   ]
  },
  {
   "cell_type": "code",
   "execution_count": 124,
   "metadata": {},
   "outputs": [],
   "source": [
    "Ramdom_Forest_f1 = f1_evaluator.evaluate(Ramdom_Forest_prediction)\n",
    "Ramdom_Forest_accuracy = accuracy_evaluator.evaluate(Ramdom_Forest_prediction)"
   ]
  },
  {
   "cell_type": "code",
   "execution_count": 125,
   "metadata": {},
   "outputs": [
    {
     "name": "stdout",
     "output_type": "stream",
     "text": [
      "________________________________\n",
      "Model 5: Random Forest Classifier\n",
      "________________________________\n",
      "F1 score: 0.8271703265445443\n",
      "________________________________\n",
      "Accuracy: 0.851063829787234\n",
      "________________________________\n"
     ]
    }
   ],
   "source": [
    "print('________________________________')\n",
    "print('Model 5: Random Forest Classifier')\n",
    "print('________________________________')\n",
    "print('F1 score: {}'.format(Ramdom_Forest_f1))\n",
    "print('________________________________')\n",
    "print('Accuracy: {}'.format(Ramdom_Forest_accuracy))\n",
    "print('________________________________')"
   ]
  },
  {
   "cell_type": "markdown",
   "metadata": {},
   "source": [
    "### The best model is number 4: Gradient-Boosted Trees (GBTClassifier), with a F1 score of 0.90 and an Accuracy of  0.91\n",
    "Let's analyse this model more in depth "
   ]
  },
  {
   "cell_type": "code",
   "execution_count": 138,
   "metadata": {},
   "outputs": [
    {
     "data": {
      "text/plain": [
       "{Param(parent='GBTClassifier_46648013257f49f44db7', name='cacheNodeIds', doc='If false, the algorithm will pass trees to executors to match instances with nodes. If true, the algorithm will cache node IDs for each instance. Caching can speed up training of deeper trees.'): False,\n",
       " Param(parent='GBTClassifier_46648013257f49f44db7', name='checkpointInterval', doc='set checkpoint interval (>= 1) or disable checkpoint (-1). E.g. 10 means that the cache will get checkpointed every 10 iterations. Note: this setting will be ignored if the checkpoint directory is not set in the SparkContext'): 10,\n",
       " Param(parent='GBTClassifier_46648013257f49f44db7', name='featuresCol', doc='features column name'): 'features_scaled',\n",
       " Param(parent='GBTClassifier_46648013257f49f44db7', name='labelCol', doc='label column name'): 'label',\n",
       " Param(parent='GBTClassifier_46648013257f49f44db7', name='lossType', doc='Loss function which GBT tries to minimize (case-insensitive). Supported options: logistic'): 'logistic',\n",
       " Param(parent='GBTClassifier_46648013257f49f44db7', name='maxBins', doc='Max number of bins for discretizing continuous features.  Must be >=2 and >= number of categories for any categorical feature.'): 32,\n",
       " Param(parent='GBTClassifier_46648013257f49f44db7', name='maxDepth', doc='Maximum depth of the tree. (>= 0) E.g., depth 0 means 1 leaf node; depth 1 means 1 internal node + 2 leaf nodes.'): 5,\n",
       " Param(parent='GBTClassifier_46648013257f49f44db7', name='maxIter', doc='maximum number of iterations (>= 0)'): 20,\n",
       " Param(parent='GBTClassifier_46648013257f49f44db7', name='maxMemoryInMB', doc='Maximum memory in MB allocated to histogram aggregation.'): 256,\n",
       " Param(parent='GBTClassifier_46648013257f49f44db7', name='minInfoGain', doc='Minimum information gain for a split to be considered at a tree node.'): 0.0,\n",
       " Param(parent='GBTClassifier_46648013257f49f44db7', name='minInstancesPerNode', doc='Minimum number of instances each child must have after split.  If a split causes the left or right child to have fewer than minInstancesPerNode, the split will be discarded as invalid. Should be >= 1.'): 1,\n",
       " Param(parent='GBTClassifier_46648013257f49f44db7', name='predictionCol', doc='prediction column name'): 'prediction',\n",
       " Param(parent='GBTClassifier_46648013257f49f44db7', name='seed', doc='random seed'): -4098069871795317830,\n",
       " Param(parent='GBTClassifier_46648013257f49f44db7', name='stepSize', doc='Step size (a.k.a. learning rate) in interval (0, 1] for shrinking the contribution of each estimator.'): 0.1,\n",
       " Param(parent='GBTClassifier_46648013257f49f44db7', name='subsamplingRate', doc='Fraction of the training data used for learning each decision tree, in range (0, 1].'): 1.0}"
      ]
     },
     "execution_count": 138,
     "metadata": {},
     "output_type": "execute_result"
    }
   ],
   "source": [
    "# First let's extract the params of the model\n",
    "GBT_model.extractParamMap()"
   ]
  },
  {
   "cell_type": "markdown",
   "metadata": {},
   "source": [
    "### Feature Importance Analysis"
   ]
  },
  {
   "cell_type": "code",
   "execution_count": 139,
   "metadata": {},
   "outputs": [],
   "source": [
    "feature_importances = GBT_model.featureImportances.values"
   ]
  },
  {
   "cell_type": "code",
   "execution_count": 146,
   "metadata": {},
   "outputs": [
    {
     "data": {
      "image/png": "[encoded data removed]",
      "text/plain": [
       "<Figure size 432x288 with 1 Axes>"
      ]
     },
     "metadata": {
      "needs_background": "light"
     },
     "output_type": "display_data"
    }
   ],
   "source": [
    "\n",
    "y = np.arange(len(data.columns[:-1]))\n",
    "plt.barh(y, feature_importances, align='center')\n",
    "plt.yticks(y, data.columns[:-1]);\n"
   ]
  },
  {
   "cell_type": "markdown",
   "metadata": {},
   "source": [
    "# Conclusion\n",
    "After have explored the data, cleaned, defined churn, done data analysis that help us with the feature angineering, have created the feature vector and apply the standard scaler, then we have train 5 machine learning models to check what could be the best.\n",
    "Based on the F1-score and on the accuracy, the best model is number 4: Gradient-Boosted Trees (GBTClassifier), with a F1 score of 0.90 and an Accuracy of 0.91\n",
    "Finally we have extracted the params of the model and have done a Feature Importance Analysis where we have found that the most important feature that let us to forecast if a user will give up the streaming music service is the subscription time, followed by: the number of roll adverts watched, the number of thumbs ups and the number of songs listened by session among other features "
   ]
  },
  {
   "cell_type": "code",
   "execution_count": null,
   "metadata": {},
   "outputs": [],
   "source": []
  }
 ],
 "metadata": {
  "kernelspec": {
   "display_name": "Python 3.6 with Spark",
   "language": "python3",
   "name": "python36"
  },
  "language_info": {
   "codemirror_mode": {
    "name": "ipython",
    "version": 3
   },
   "file_extension": ".py",
   "mimetype": "text/x-python",
   "name": "python",
   "nbconvert_exporter": "python",
   "pygments_lexer": "ipython3",
   "version": "3.6.8"
  }
 },
 "nbformat": 4,
 "nbformat_minor": 1
}
